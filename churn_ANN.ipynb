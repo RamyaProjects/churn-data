{
 "cells": [
  {
   "cell_type": "code",
   "execution_count": 115,
   "id": "aab0f73c-e3c6-4314-a4f5-a93ed89bd004",
   "metadata": {},
   "outputs": [
    {
     "name": "stdout",
     "output_type": "stream",
     "text": [
      "Collecting tensorflow\n",
      "  Using cached tensorflow-2.19.0-cp311-cp311-win_amd64.whl.metadata (4.1 kB)\n",
      "Collecting absl-py>=1.0.0 (from tensorflow)\n",
      "  Using cached absl_py-2.2.2-py3-none-any.whl.metadata (2.6 kB)\n",
      "Collecting astunparse>=1.6.0 (from tensorflow)\n",
      "  Using cached astunparse-1.6.3-py2.py3-none-any.whl.metadata (4.4 kB)\n",
      "Collecting flatbuffers>=24.3.25 (from tensorflow)\n",
      "  Using cached flatbuffers-25.2.10-py2.py3-none-any.whl.metadata (875 bytes)\n",
      "Collecting gast!=0.5.0,!=0.5.1,!=0.5.2,>=0.2.1 (from tensorflow)\n",
      "  Using cached gast-0.6.0-py3-none-any.whl.metadata (1.3 kB)\n",
      "Collecting google-pasta>=0.1.1 (from tensorflow)\n",
      "  Using cached google_pasta-0.2.0-py3-none-any.whl.metadata (814 bytes)\n",
      "Collecting libclang>=13.0.0 (from tensorflow)\n",
      "  Using cached libclang-18.1.1-py2.py3-none-win_amd64.whl.metadata (5.3 kB)\n",
      "Collecting opt-einsum>=2.3.2 (from tensorflow)\n",
      "  Using cached opt_einsum-3.4.0-py3-none-any.whl.metadata (6.3 kB)\n",
      "Requirement already satisfied: packaging in c:\\users\\chsan\\appdata\\local\\programs\\python\\python311\\lib\\site-packages (from tensorflow) (24.2)\n",
      "Collecting protobuf!=4.21.0,!=4.21.1,!=4.21.2,!=4.21.3,!=4.21.4,!=4.21.5,<6.0.0dev,>=3.20.3 (from tensorflow)\n",
      "  Using cached protobuf-5.29.4-cp310-abi3-win_amd64.whl.metadata (592 bytes)\n",
      "Requirement already satisfied: requests<3,>=2.21.0 in c:\\users\\chsan\\appdata\\local\\programs\\python\\python311\\lib\\site-packages (from tensorflow) (2.32.3)\n",
      "Requirement already satisfied: setuptools in c:\\users\\chsan\\appdata\\local\\programs\\python\\python311\\lib\\site-packages (from tensorflow) (65.5.0)\n",
      "Requirement already satisfied: six>=1.12.0 in c:\\users\\chsan\\appdata\\local\\programs\\python\\python311\\lib\\site-packages (from tensorflow) (1.17.0)\n",
      "Collecting termcolor>=1.1.0 (from tensorflow)\n",
      "  Using cached termcolor-3.0.1-py3-none-any.whl.metadata (6.1 kB)\n",
      "Requirement already satisfied: typing-extensions>=3.6.6 in c:\\users\\chsan\\appdata\\local\\programs\\python\\python311\\lib\\site-packages (from tensorflow) (4.13.2)\n",
      "Requirement already satisfied: wrapt>=1.11.0 in c:\\users\\chsan\\appdata\\local\\programs\\python\\python311\\lib\\site-packages (from tensorflow) (1.17.2)\n",
      "Collecting grpcio<2.0,>=1.24.3 (from tensorflow)\n",
      "  Using cached grpcio-1.71.0-cp311-cp311-win_amd64.whl.metadata (4.0 kB)\n",
      "Collecting tensorboard~=2.19.0 (from tensorflow)\n",
      "  Using cached tensorboard-2.19.0-py3-none-any.whl.metadata (1.8 kB)\n",
      "Collecting keras>=3.5.0 (from tensorflow)\n",
      "  Using cached keras-3.9.2-py3-none-any.whl.metadata (6.1 kB)\n",
      "Collecting numpy<2.2.0,>=1.26.0 (from tensorflow)\n",
      "  Using cached numpy-2.1.3-cp311-cp311-win_amd64.whl.metadata (60 kB)\n",
      "Collecting h5py>=3.11.0 (from tensorflow)\n",
      "  Using cached h5py-3.13.0-cp311-cp311-win_amd64.whl.metadata (2.5 kB)\n",
      "Collecting ml-dtypes<1.0.0,>=0.5.1 (from tensorflow)\n",
      "  Using cached ml_dtypes-0.5.1-cp311-cp311-win_amd64.whl.metadata (22 kB)\n",
      "Collecting tensorflow-io-gcs-filesystem>=0.23.1 (from tensorflow)\n",
      "  Using cached tensorflow_io_gcs_filesystem-0.31.0-cp311-cp311-win_amd64.whl.metadata (14 kB)\n",
      "Collecting wheel<1.0,>=0.23.0 (from astunparse>=1.6.0->tensorflow)\n",
      "  Using cached wheel-0.45.1-py3-none-any.whl.metadata (2.3 kB)\n",
      "Requirement already satisfied: rich in c:\\users\\chsan\\appdata\\local\\programs\\python\\python311\\lib\\site-packages (from keras>=3.5.0->tensorflow) (14.0.0)\n",
      "Collecting namex (from keras>=3.5.0->tensorflow)\n",
      "  Using cached namex-0.0.8-py3-none-any.whl.metadata (246 bytes)\n",
      "Collecting optree (from keras>=3.5.0->tensorflow)\n",
      "  Using cached optree-0.15.0-cp311-cp311-win_amd64.whl.metadata (49 kB)\n",
      "Requirement already satisfied: charset-normalizer<4,>=2 in c:\\users\\chsan\\appdata\\local\\programs\\python\\python311\\lib\\site-packages (from requests<3,>=2.21.0->tensorflow) (3.4.1)\n",
      "Requirement already satisfied: idna<4,>=2.5 in c:\\users\\chsan\\appdata\\local\\programs\\python\\python311\\lib\\site-packages (from requests<3,>=2.21.0->tensorflow) (3.10)\n",
      "Requirement already satisfied: urllib3<3,>=1.21.1 in c:\\users\\chsan\\appdata\\local\\programs\\python\\python311\\lib\\site-packages (from requests<3,>=2.21.0->tensorflow) (2.4.0)\n",
      "Requirement already satisfied: certifi>=2017.4.17 in c:\\users\\chsan\\appdata\\local\\programs\\python\\python311\\lib\\site-packages (from requests<3,>=2.21.0->tensorflow) (2025.1.31)\n",
      "Collecting markdown>=2.6.8 (from tensorboard~=2.19.0->tensorflow)\n",
      "  Using cached markdown-3.8-py3-none-any.whl.metadata (5.1 kB)\n",
      "Collecting tensorboard-data-server<0.8.0,>=0.7.0 (from tensorboard~=2.19.0->tensorflow)\n",
      "  Using cached tensorboard_data_server-0.7.2-py3-none-any.whl.metadata (1.1 kB)\n",
      "Collecting werkzeug>=1.0.1 (from tensorboard~=2.19.0->tensorflow)\n",
      "  Using cached werkzeug-3.1.3-py3-none-any.whl.metadata (3.7 kB)\n",
      "Requirement already satisfied: MarkupSafe>=2.1.1 in c:\\users\\chsan\\appdata\\local\\programs\\python\\python311\\lib\\site-packages (from werkzeug>=1.0.1->tensorboard~=2.19.0->tensorflow) (3.0.2)\n",
      "Requirement already satisfied: markdown-it-py>=2.2.0 in c:\\users\\chsan\\appdata\\local\\programs\\python\\python311\\lib\\site-packages (from rich->keras>=3.5.0->tensorflow) (3.0.0)\n",
      "Requirement already satisfied: pygments<3.0.0,>=2.13.0 in c:\\users\\chsan\\appdata\\local\\programs\\python\\python311\\lib\\site-packages (from rich->keras>=3.5.0->tensorflow) (2.19.1)\n",
      "Requirement already satisfied: mdurl~=0.1 in c:\\users\\chsan\\appdata\\local\\programs\\python\\python311\\lib\\site-packages (from markdown-it-py>=2.2.0->rich->keras>=3.5.0->tensorflow) (0.1.2)\n",
      "Downloading tensorflow-2.19.0-cp311-cp311-win_amd64.whl (375.9 MB)\n",
      "   ---------------------------------------- 0.0/375.9 MB ? eta -:--:--\n",
      "   ---------------------------------------- 1.3/375.9 MB 8.4 MB/s eta 0:00:45\n",
      "   ---------------------------------------- 2.9/375.9 MB 8.0 MB/s eta 0:00:47\n",
      "    --------------------------------------- 6.6/375.9 MB 10.6 MB/s eta 0:00:35\n",
      "   - -------------------------------------- 9.4/375.9 MB 11.3 MB/s eta 0:00:33\n",
      "   - -------------------------------------- 12.6/375.9 MB 12.0 MB/s eta 0:00:31\n",
      "   - -------------------------------------- 15.7/375.9 MB 12.4 MB/s eta 0:00:30\n",
      "   - -------------------------------------- 18.6/375.9 MB 12.5 MB/s eta 0:00:29\n",
      "   -- ------------------------------------- 21.2/375.9 MB 12.7 MB/s eta 0:00:29\n",
      "   -- ------------------------------------- 24.4/375.9 MB 12.9 MB/s eta 0:00:28\n",
      "   -- ------------------------------------- 27.3/375.9 MB 12.9 MB/s eta 0:00:28\n",
      "   --- ------------------------------------ 30.1/375.9 MB 12.9 MB/s eta 0:00:27\n",
      "   --- ------------------------------------ 32.8/375.9 MB 12.8 MB/s eta 0:00:27\n",
      "   --- ------------------------------------ 34.6/375.9 MB 12.6 MB/s eta 0:00:28\n",
      "   --- ------------------------------------ 37.2/375.9 MB 12.6 MB/s eta 0:00:27\n",
      "   ---- ----------------------------------- 40.6/375.9 MB 12.7 MB/s eta 0:00:27\n",
      "   ---- ----------------------------------- 42.7/375.9 MB 12.5 MB/s eta 0:00:27\n",
      "   ---- ----------------------------------- 45.9/375.9 MB 12.6 MB/s eta 0:00:27\n",
      "   ----- ---------------------------------- 48.8/375.9 MB 12.7 MB/s eta 0:00:26\n",
      "   ----- ---------------------------------- 51.6/375.9 MB 12.7 MB/s eta 0:00:26\n",
      "   ----- ---------------------------------- 54.5/375.9 MB 12.7 MB/s eta 0:00:26\n",
      "   ------ --------------------------------- 57.7/375.9 MB 12.8 MB/s eta 0:00:25\n",
      "   ------ --------------------------------- 60.6/375.9 MB 12.8 MB/s eta 0:00:25\n",
      "   ------ --------------------------------- 63.4/375.9 MB 12.9 MB/s eta 0:00:25\n",
      "   ------- -------------------------------- 66.6/375.9 MB 12.9 MB/s eta 0:00:24\n",
      "   ------- -------------------------------- 69.5/375.9 MB 13.0 MB/s eta 0:00:24\n",
      "   ------- -------------------------------- 72.4/375.9 MB 12.9 MB/s eta 0:00:24\n",
      "   -------- ------------------------------- 75.5/375.9 MB 13.0 MB/s eta 0:00:24\n",
      "   -------- ------------------------------- 78.6/375.9 MB 13.0 MB/s eta 0:00:23\n",
      "   -------- ------------------------------- 82.3/375.9 MB 13.1 MB/s eta 0:00:23\n",
      "   --------- ------------------------------ 85.5/375.9 MB 13.1 MB/s eta 0:00:23\n",
      "   --------- ------------------------------ 88.3/375.9 MB 13.1 MB/s eta 0:00:22\n",
      "   --------- ------------------------------ 91.5/375.9 MB 13.1 MB/s eta 0:00:22\n",
      "   ---------- ----------------------------- 94.6/375.9 MB 13.2 MB/s eta 0:00:22\n",
      "   ---------- ----------------------------- 97.8/375.9 MB 13.2 MB/s eta 0:00:22\n",
      "   ---------- ---------------------------- 100.7/375.9 MB 13.2 MB/s eta 0:00:21\n",
      "   ---------- ---------------------------- 103.5/375.9 MB 13.2 MB/s eta 0:00:21\n",
      "   ----------- --------------------------- 106.7/375.9 MB 13.2 MB/s eta 0:00:21\n",
      "   ----------- --------------------------- 109.3/375.9 MB 13.2 MB/s eta 0:00:21\n",
      "   ----------- --------------------------- 111.7/375.9 MB 13.1 MB/s eta 0:00:21\n",
      "   ----------- --------------------------- 114.6/375.9 MB 13.1 MB/s eta 0:00:20\n",
      "   ------------ -------------------------- 116.9/375.9 MB 13.1 MB/s eta 0:00:20\n",
      "   ------------ -------------------------- 119.0/375.9 MB 13.0 MB/s eta 0:00:20\n",
      "   ------------ -------------------------- 121.6/375.9 MB 13.0 MB/s eta 0:00:20\n",
      "   ------------ -------------------------- 124.5/375.9 MB 13.0 MB/s eta 0:00:20\n",
      "   ------------- ------------------------- 127.4/375.9 MB 13.0 MB/s eta 0:00:20\n",
      "   ------------- ------------------------- 130.3/375.9 MB 13.0 MB/s eta 0:00:19\n",
      "   ------------- ------------------------- 133.4/375.9 MB 13.0 MB/s eta 0:00:19\n",
      "   -------------- ------------------------ 136.3/375.9 MB 13.1 MB/s eta 0:00:19\n",
      "   -------------- ------------------------ 139.2/375.9 MB 13.0 MB/s eta 0:00:19\n",
      "   -------------- ------------------------ 142.1/375.9 MB 13.1 MB/s eta 0:00:18\n",
      "   --------------- ----------------------- 145.2/375.9 MB 13.1 MB/s eta 0:00:18\n",
      "   --------------- ----------------------- 148.1/375.9 MB 13.1 MB/s eta 0:00:18\n",
      "   --------------- ----------------------- 150.7/375.9 MB 13.1 MB/s eta 0:00:18\n",
      "   --------------- ----------------------- 153.9/375.9 MB 13.1 MB/s eta 0:00:17\n",
      "   ---------------- ---------------------- 156.8/375.9 MB 13.1 MB/s eta 0:00:17\n",
      "   ---------------- ---------------------- 159.9/375.9 MB 13.1 MB/s eta 0:00:17\n",
      "   ---------------- ---------------------- 162.8/375.9 MB 13.1 MB/s eta 0:00:17\n",
      "   ----------------- --------------------- 165.9/375.9 MB 13.2 MB/s eta 0:00:16\n",
      "   ----------------- --------------------- 168.8/375.9 MB 13.2 MB/s eta 0:00:16\n",
      "   ----------------- --------------------- 172.0/375.9 MB 13.2 MB/s eta 0:00:16\n",
      "   ------------------ -------------------- 174.9/375.9 MB 13.2 MB/s eta 0:00:16\n",
      "   ------------------ -------------------- 177.7/375.9 MB 13.2 MB/s eta 0:00:16\n",
      "   ------------------ -------------------- 180.9/375.9 MB 13.2 MB/s eta 0:00:15\n",
      "   ------------------- ------------------- 183.5/375.9 MB 13.2 MB/s eta 0:00:15\n",
      "   ------------------- ------------------- 186.4/375.9 MB 13.2 MB/s eta 0:00:15\n",
      "   ------------------- ------------------- 189.5/375.9 MB 13.2 MB/s eta 0:00:15\n",
      "   ------------------- ------------------- 192.7/375.9 MB 13.2 MB/s eta 0:00:14\n",
      "   -------------------- ------------------ 194.8/375.9 MB 13.2 MB/s eta 0:00:14\n",
      "   -------------------- ------------------ 197.9/375.9 MB 13.2 MB/s eta 0:00:14\n",
      "   -------------------- ------------------ 200.5/375.9 MB 13.2 MB/s eta 0:00:14\n",
      "   --------------------- ----------------- 203.4/375.9 MB 13.2 MB/s eta 0:00:14\n",
      "   --------------------- ----------------- 206.3/375.9 MB 13.2 MB/s eta 0:00:13\n",
      "   --------------------- ----------------- 209.5/375.9 MB 13.2 MB/s eta 0:00:13\n",
      "   ---------------------- ---------------- 212.3/375.9 MB 13.2 MB/s eta 0:00:13\n",
      "   ---------------------- ---------------- 215.5/375.9 MB 13.2 MB/s eta 0:00:13\n",
      "   ---------------------- ---------------- 218.4/375.9 MB 13.2 MB/s eta 0:00:12\n",
      "   ---------------------- ---------------- 221.2/375.9 MB 13.2 MB/s eta 0:00:12\n",
      "   ----------------------- --------------- 224.4/375.9 MB 13.2 MB/s eta 0:00:12\n",
      "   ----------------------- --------------- 227.5/375.9 MB 13.2 MB/s eta 0:00:12\n",
      "   ----------------------- --------------- 229.9/375.9 MB 13.2 MB/s eta 0:00:12\n",
      "   ------------------------ -------------- 233.0/375.9 MB 13.2 MB/s eta 0:00:11\n",
      "   ------------------------ -------------- 235.9/375.9 MB 13.2 MB/s eta 0:00:11\n",
      "   ------------------------ -------------- 238.3/375.9 MB 13.2 MB/s eta 0:00:11\n",
      "   ------------------------- ------------- 241.2/375.9 MB 13.2 MB/s eta 0:00:11\n",
      "   ------------------------- ------------- 243.8/375.9 MB 13.2 MB/s eta 0:00:11\n",
      "   ------------------------- ------------- 246.7/375.9 MB 13.2 MB/s eta 0:00:10\n",
      "   ------------------------- ------------- 248.3/375.9 MB 13.1 MB/s eta 0:00:10\n",
      "   -------------------------- ------------ 251.7/375.9 MB 13.1 MB/s eta 0:00:10\n",
      "   -------------------------- ------------ 254.5/375.9 MB 13.1 MB/s eta 0:00:10\n",
      "   -------------------------- ------------ 257.2/375.9 MB 13.1 MB/s eta 0:00:10\n",
      "   --------------------------- ----------- 260.3/375.9 MB 13.1 MB/s eta 0:00:09\n",
      "   --------------------------- ----------- 263.2/375.9 MB 13.2 MB/s eta 0:00:09\n",
      "   --------------------------- ----------- 266.3/375.9 MB 13.2 MB/s eta 0:00:09\n",
      "   --------------------------- ----------- 269.2/375.9 MB 13.2 MB/s eta 0:00:09\n",
      "   ---------------------------- ---------- 272.1/375.9 MB 13.2 MB/s eta 0:00:08\n",
      "   ---------------------------- ---------- 275.3/375.9 MB 13.2 MB/s eta 0:00:08\n",
      "   ---------------------------- ---------- 277.6/375.9 MB 13.2 MB/s eta 0:00:08\n",
      "   ----------------------------- --------- 280.8/375.9 MB 13.2 MB/s eta 0:00:08\n",
      "   ----------------------------- --------- 283.9/375.9 MB 13.2 MB/s eta 0:00:07\n",
      "   ----------------------------- --------- 286.8/375.9 MB 13.2 MB/s eta 0:00:07\n",
      "   ------------------------------ -------- 289.7/375.9 MB 13.2 MB/s eta 0:00:07\n",
      "   ------------------------------ -------- 292.6/375.9 MB 13.2 MB/s eta 0:00:07\n",
      "   ------------------------------ -------- 295.4/375.9 MB 13.2 MB/s eta 0:00:07\n",
      "   ------------------------------ -------- 298.6/375.9 MB 13.3 MB/s eta 0:00:06\n",
      "   ------------------------------- ------- 300.9/375.9 MB 13.2 MB/s eta 0:00:06\n",
      "   ------------------------------- ------- 304.1/375.9 MB 13.2 MB/s eta 0:00:06\n",
      "   ------------------------------- ------- 307.0/375.9 MB 13.3 MB/s eta 0:00:06\n",
      "   -------------------------------- ------ 309.6/375.9 MB 13.3 MB/s eta 0:00:05\n",
      "   -------------------------------- ------ 312.7/375.9 MB 13.3 MB/s eta 0:00:05\n",
      "   -------------------------------- ------ 314.8/375.9 MB 13.2 MB/s eta 0:00:05\n",
      "   -------------------------------- ------ 318.0/375.9 MB 13.2 MB/s eta 0:00:05\n",
      "   --------------------------------- ----- 320.6/375.9 MB 13.2 MB/s eta 0:00:05\n",
      "   --------------------------------- ----- 323.0/375.9 MB 13.2 MB/s eta 0:00:05\n",
      "   --------------------------------- ----- 326.4/375.9 MB 13.2 MB/s eta 0:00:04\n",
      "   ---------------------------------- ---- 329.0/375.9 MB 13.2 MB/s eta 0:00:04\n",
      "   ---------------------------------- ---- 332.1/375.9 MB 13.2 MB/s eta 0:00:04\n",
      "   ---------------------------------- ---- 335.3/375.9 MB 13.2 MB/s eta 0:00:04\n",
      "   ----------------------------------- --- 337.9/375.9 MB 13.2 MB/s eta 0:00:03\n",
      "   ----------------------------------- --- 341.0/375.9 MB 13.2 MB/s eta 0:00:03\n",
      "   ----------------------------------- --- 342.4/375.9 MB 13.2 MB/s eta 0:00:03\n",
      "   ------------------------------------ -- 347.1/375.9 MB 13.2 MB/s eta 0:00:03\n",
      "   ------------------------------------ -- 350.2/375.9 MB 13.2 MB/s eta 0:00:02\n",
      "   ------------------------------------ -- 352.8/375.9 MB 13.2 MB/s eta 0:00:02\n",
      "   ------------------------------------ -- 356.0/375.9 MB 13.2 MB/s eta 0:00:02\n",
      "   ------------------------------------- - 359.1/375.9 MB 13.2 MB/s eta 0:00:02\n",
      "   ------------------------------------- - 362.0/375.9 MB 13.2 MB/s eta 0:00:02\n",
      "   ------------------------------------- - 365.2/375.9 MB 13.2 MB/s eta 0:00:01\n",
      "   --------------------------------------  368.3/375.9 MB 13.2 MB/s eta 0:00:01\n",
      "   --------------------------------------  371.2/375.9 MB 13.2 MB/s eta 0:00:01\n",
      "   --------------------------------------  373.6/375.9 MB 13.2 MB/s eta 0:00:01\n",
      "   --------------------------------------  375.7/375.9 MB 13.2 MB/s eta 0:00:01\n",
      "   --------------------------------------  375.7/375.9 MB 13.2 MB/s eta 0:00:01\n",
      "   --------------------------------------  375.7/375.9 MB 13.2 MB/s eta 0:00:01\n",
      "   --------------------------------------  375.7/375.9 MB 13.2 MB/s eta 0:00:01\n",
      "   --------------------------------------  375.7/375.9 MB 13.2 MB/s eta 0:00:01\n",
      "   --------------------------------------  375.7/375.9 MB 13.2 MB/s eta 0:00:01\n",
      "   --------------------------------------  375.7/375.9 MB 13.2 MB/s eta 0:00:01\n",
      "   --------------------------------------  375.7/375.9 MB 13.2 MB/s eta 0:00:01\n",
      "   --------------------------------------  375.7/375.9 MB 13.2 MB/s eta 0:00:01\n",
      "   --------------------------------------  375.7/375.9 MB 13.2 MB/s eta 0:00:01\n",
      "   --------------------------------------  375.7/375.9 MB 13.2 MB/s eta 0:00:01\n",
      "   --------------------------------------  375.7/375.9 MB 13.2 MB/s eta 0:00:01\n",
      "   --------------------------------------  375.7/375.9 MB 13.2 MB/s eta 0:00:01\n",
      "   --------------------------------------  375.7/375.9 MB 13.2 MB/s eta 0:00:01\n",
      "   --------------------------------------  375.7/375.9 MB 13.2 MB/s eta 0:00:01\n",
      "   --------------------------------------  375.7/375.9 MB 13.2 MB/s eta 0:00:01\n",
      "   --------------------------------------  375.7/375.9 MB 13.2 MB/s eta 0:00:01\n",
      "   --------------------------------------  375.7/375.9 MB 13.2 MB/s eta 0:00:01\n",
      "   --------------------------------------  375.7/375.9 MB 13.2 MB/s eta 0:00:01\n",
      "   --------------------------------------  375.7/375.9 MB 13.2 MB/s eta 0:00:01\n",
      "   --------------------------------------  375.7/375.9 MB 13.2 MB/s eta 0:00:01\n",
      "   --------------------------------------  375.7/375.9 MB 13.2 MB/s eta 0:00:01\n",
      "   --------------------------------------  375.7/375.9 MB 13.2 MB/s eta 0:00:01\n",
      "   --------------------------------------  375.7/375.9 MB 13.2 MB/s eta 0:00:01\n",
      "   --------------------------------------  375.7/375.9 MB 13.2 MB/s eta 0:00:01\n",
      "   --------------------------------------  375.7/375.9 MB 13.2 MB/s eta 0:00:01\n",
      "   --------------------------------------  375.7/375.9 MB 13.2 MB/s eta 0:00:01\n",
      "   --------------------------------------  375.7/375.9 MB 13.2 MB/s eta 0:00:01\n",
      "   --------------------------------------  375.7/375.9 MB 13.2 MB/s eta 0:00:01\n",
      "   --------------------------------------  375.7/375.9 MB 13.2 MB/s eta 0:00:01\n",
      "   --------------------------------------  375.7/375.9 MB 13.2 MB/s eta 0:00:01\n",
      "   --------------------------------------  375.7/375.9 MB 13.2 MB/s eta 0:00:01\n",
      "   --------------------------------------  375.7/375.9 MB 13.2 MB/s eta 0:00:01\n",
      "   --------------------------------------  375.7/375.9 MB 13.2 MB/s eta 0:00:01\n",
      "   --------------------------------------  375.7/375.9 MB 13.2 MB/s eta 0:00:01\n",
      "   --------------------------------------  375.7/375.9 MB 13.2 MB/s eta 0:00:01\n",
      "   --------------------------------------  375.7/375.9 MB 13.2 MB/s eta 0:00:01\n",
      "   --------------------------------------  375.7/375.9 MB 13.2 MB/s eta 0:00:01\n",
      "   --------------------------------------  375.7/375.9 MB 13.2 MB/s eta 0:00:01\n",
      "   --------------------------------------  375.7/375.9 MB 13.2 MB/s eta 0:00:01\n",
      "   --------------------------------------  375.7/375.9 MB 13.2 MB/s eta 0:00:01\n",
      "   --------------------------------------  375.7/375.9 MB 13.2 MB/s eta 0:00:01\n",
      "   --------------------------------------  375.7/375.9 MB 13.2 MB/s eta 0:00:01\n",
      "   --------------------------------------  375.7/375.9 MB 13.2 MB/s eta 0:00:01\n",
      "   --------------------------------------  375.7/375.9 MB 13.2 MB/s eta 0:00:01\n",
      "   --------------------------------------  375.7/375.9 MB 13.2 MB/s eta 0:00:01\n",
      "   --------------------------------------  375.7/375.9 MB 13.2 MB/s eta 0:00:01\n",
      "   --------------------------------------  375.7/375.9 MB 13.2 MB/s eta 0:00:01\n",
      "   --------------------------------------  375.7/375.9 MB 13.2 MB/s eta 0:00:01\n",
      "   ---------------------------------------- 375.9/375.9 MB 8.2 MB/s eta 0:00:00\n",
      "Downloading absl_py-2.2.2-py3-none-any.whl (135 kB)\n",
      "Downloading astunparse-1.6.3-py2.py3-none-any.whl (12 kB)\n",
      "Downloading flatbuffers-25.2.10-py2.py3-none-any.whl (30 kB)\n",
      "Downloading gast-0.6.0-py3-none-any.whl (21 kB)\n",
      "Downloading google_pasta-0.2.0-py3-none-any.whl (57 kB)\n",
      "Downloading grpcio-1.71.0-cp311-cp311-win_amd64.whl (4.3 MB)\n",
      "   ---------------------------------------- 0.0/4.3 MB ? eta -:--:--\n",
      "   ----------------------------- ---------- 3.1/4.3 MB 16.8 MB/s eta 0:00:01\n",
      "   ---------------------------------------  4.2/4.3 MB 14.8 MB/s eta 0:00:01\n",
      "   ---------------------------------------- 4.3/4.3 MB 8.3 MB/s eta 0:00:00\n",
      "Downloading h5py-3.13.0-cp311-cp311-win_amd64.whl (3.0 MB)\n",
      "   ---------------------------------------- 0.0/3.0 MB ? eta -:--:--\n",
      "   -------------------------------------- - 2.9/3.0 MB 14.0 MB/s eta 0:00:01\n",
      "   -------------------------------------- - 2.9/3.0 MB 14.0 MB/s eta 0:00:01\n",
      "   -------------------------------------- - 2.9/3.0 MB 14.0 MB/s eta 0:00:01\n",
      "   -------------------------------------- - 2.9/3.0 MB 14.0 MB/s eta 0:00:01\n",
      "   -------------------------------------- - 2.9/3.0 MB 14.0 MB/s eta 0:00:01\n",
      "   -------------------------------------- - 2.9/3.0 MB 14.0 MB/s eta 0:00:01\n",
      "   ---------------------------------------- 3.0/3.0 MB 2.1 MB/s eta 0:00:00\n",
      "Downloading keras-3.9.2-py3-none-any.whl (1.3 MB)\n",
      "   ---------------------------------------- 0.0/1.3 MB ? eta -:--:--\n",
      "   ---------------------------------------  1.3/1.3 MB 16.9 MB/s eta 0:00:01\n",
      "   ---------------------------------------  1.3/1.3 MB 16.9 MB/s eta 0:00:01\n",
      "   ---------------------------------------  1.3/1.3 MB 16.9 MB/s eta 0:00:01\n",
      "   ---------------------------------------  1.3/1.3 MB 16.9 MB/s eta 0:00:01\n",
      "   ---------------------------------------  1.3/1.3 MB 16.9 MB/s eta 0:00:01\n",
      "   ---------------------------------------  1.3/1.3 MB 16.9 MB/s eta 0:00:01\n",
      "   ---------------------------------------  1.3/1.3 MB 16.9 MB/s eta 0:00:01\n",
      "   ---------------------------------------- 1.3/1.3 MB 658.4 kB/s eta 0:00:00\n",
      "Downloading libclang-18.1.1-py2.py3-none-win_amd64.whl (26.4 MB)\n",
      "   ---------------------------------------- 0.0/26.4 MB ? eta -:--:--\n",
      "   ---- ----------------------------------- 3.1/26.4 MB 14.2 MB/s eta 0:00:02\n",
      "   --------- ------------------------------ 6.0/26.4 MB 14.2 MB/s eta 0:00:02\n",
      "   ------------- -------------------------- 9.2/26.4 MB 13.9 MB/s eta 0:00:02\n",
      "   ----------------- ---------------------- 11.8/26.4 MB 13.4 MB/s eta 0:00:02\n",
      "   ---------------------- ----------------- 14.7/26.4 MB 13.6 MB/s eta 0:00:01\n",
      "   -------------------------- ------------- 17.3/26.4 MB 13.3 MB/s eta 0:00:01\n",
      "   ------------------------------ --------- 20.2/26.4 MB 13.1 MB/s eta 0:00:01\n",
      "   ----------------------------------- ---- 23.3/26.4 MB 13.3 MB/s eta 0:00:01\n",
      "   -------------------------------------- - 25.7/26.4 MB 13.1 MB/s eta 0:00:01\n",
      "   ---------------------------------------  26.2/26.4 MB 13.1 MB/s eta 0:00:01\n",
      "   ---------------------------------------  26.2/26.4 MB 13.1 MB/s eta 0:00:01\n",
      "   ---------------------------------------  26.2/26.4 MB 13.1 MB/s eta 0:00:01\n",
      "   ---------------------------------------  26.2/26.4 MB 13.1 MB/s eta 0:00:01\n",
      "   ---------------------------------------- 26.4/26.4 MB 8.7 MB/s eta 0:00:00\n",
      "Downloading ml_dtypes-0.5.1-cp311-cp311-win_amd64.whl (209 kB)\n",
      "Downloading numpy-2.1.3-cp311-cp311-win_amd64.whl (12.9 MB)\n",
      "   ---------------------------------------- 0.0/12.9 MB ? eta -:--:--\n",
      "   -------- ------------------------------- 2.9/12.9 MB 12.9 MB/s eta 0:00:01\n",
      "   ----------------- ---------------------- 5.8/12.9 MB 13.0 MB/s eta 0:00:01\n",
      "   -------------------------- ------------- 8.7/12.9 MB 13.4 MB/s eta 0:00:01\n",
      "   ------------------------------------ --- 11.8/12.9 MB 13.4 MB/s eta 0:00:01\n",
      "   ---------------------------------------  12.8/12.9 MB 13.4 MB/s eta 0:00:01\n",
      "   ---------------------------------------  12.8/12.9 MB 13.4 MB/s eta 0:00:01\n",
      "   ---------------------------------------  12.8/12.9 MB 13.4 MB/s eta 0:00:01\n",
      "   ---------------------------------------  12.8/12.9 MB 13.4 MB/s eta 0:00:01\n",
      "   ---------------------------------------  12.8/12.9 MB 13.4 MB/s eta 0:00:01\n",
      "   ---------------------------------------  12.8/12.9 MB 13.4 MB/s eta 0:00:01\n",
      "   ---------------------------------------  12.8/12.9 MB 13.4 MB/s eta 0:00:01\n",
      "   ---------------------------------------- 12.9/12.9 MB 5.1 MB/s eta 0:00:00\n",
      "Downloading opt_einsum-3.4.0-py3-none-any.whl (71 kB)\n",
      "Downloading protobuf-5.29.4-cp310-abi3-win_amd64.whl (434 kB)\n",
      "Downloading tensorboard-2.19.0-py3-none-any.whl (5.5 MB)\n",
      "   ---------------------------------------- 0.0/5.5 MB ? eta -:--:--\n",
      "   -------------------- ------------------- 2.9/5.5 MB 13.9 MB/s eta 0:00:01\n",
      "   -------------------------------------- - 5.2/5.5 MB 12.7 MB/s eta 0:00:01\n",
      "   -------------------------------------- - 5.2/5.5 MB 12.7 MB/s eta 0:00:01\n",
      "   -------------------------------------- - 5.2/5.5 MB 12.7 MB/s eta 0:00:01\n",
      "   -------------------------------------- - 5.2/5.5 MB 12.7 MB/s eta 0:00:01\n",
      "   -------------------------------------- - 5.2/5.5 MB 12.7 MB/s eta 0:00:01\n",
      "   -------------------------------------- - 5.2/5.5 MB 12.7 MB/s eta 0:00:01\n",
      "   -------------------------------------- - 5.2/5.5 MB 12.7 MB/s eta 0:00:01\n",
      "   ---------------------------------------- 5.5/5.5 MB 2.9 MB/s eta 0:00:00\n",
      "Downloading tensorflow_io_gcs_filesystem-0.31.0-cp311-cp311-win_amd64.whl (1.5 MB)\n",
      "   ---------------------------------------- 0.0/1.5 MB ? eta -:--:--\n",
      "   ----------------------------------- ---- 1.3/1.5 MB 13.4 MB/s eta 0:00:01\n",
      "   ----------------------------------- ---- 1.3/1.5 MB 13.4 MB/s eta 0:00:01\n",
      "   ---------------------------------------- 1.5/1.5 MB 2.0 MB/s eta 0:00:00\n",
      "Downloading termcolor-3.0.1-py3-none-any.whl (7.2 kB)\n",
      "Downloading markdown-3.8-py3-none-any.whl (106 kB)\n",
      "Downloading tensorboard_data_server-0.7.2-py3-none-any.whl (2.4 kB)\n",
      "Downloading werkzeug-3.1.3-py3-none-any.whl (224 kB)\n",
      "Downloading wheel-0.45.1-py3-none-any.whl (72 kB)\n",
      "Downloading namex-0.0.8-py3-none-any.whl (5.8 kB)\n",
      "Downloading optree-0.15.0-cp311-cp311-win_amd64.whl (306 kB)\n",
      "Installing collected packages: namex, libclang, flatbuffers, wheel, werkzeug, termcolor, tensorflow-io-gcs-filesystem, tensorboard-data-server, protobuf, optree, opt-einsum, numpy, markdown, grpcio, google-pasta, gast, absl-py, tensorboard, ml-dtypes, h5py, astunparse, keras, tensorflow\n",
      "  Attempting uninstall: numpy\n",
      "    Found existing installation: numpy 2.2.4\n",
      "    Uninstalling numpy-2.2.4:\n",
      "      Successfully uninstalled numpy-2.2.4\n",
      "Successfully installed absl-py-2.2.2 astunparse-1.6.3 flatbuffers-25.2.10 gast-0.6.0 google-pasta-0.2.0 grpcio-1.71.0 h5py-3.13.0 keras-3.9.2 libclang-18.1.1 markdown-3.8 ml-dtypes-0.5.1 namex-0.0.8 numpy-2.1.3 opt-einsum-3.4.0 optree-0.15.0 protobuf-5.29.4 tensorboard-2.19.0 tensorboard-data-server-0.7.2 tensorflow-2.19.0 tensorflow-io-gcs-filesystem-0.31.0 termcolor-3.0.1 werkzeug-3.1.3 wheel-0.45.1\n"
     ]
    },
    {
     "name": "stderr",
     "output_type": "stream",
     "text": [
      "  WARNING: Failed to remove contents in a temporary directory 'C:\\Users\\chsan\\AppData\\Local\\Programs\\Python\\Python311\\Lib\\site-packages\\~umpy.libs'.\n",
      "  You can safely remove it manually.\n",
      "  WARNING: Failed to remove contents in a temporary directory 'C:\\Users\\chsan\\AppData\\Local\\Programs\\Python\\Python311\\Lib\\site-packages\\~umpy'.\n",
      "  You can safely remove it manually.\n"
     ]
    }
   ],
   "source": [
    "import numpy as np\n",
    "import pandas as pd\n",
    "import matplotlib.pyplot as plt\n",
    "import seaborn as sns\n",
    "from sklearn.model_selection import train_test_split\n",
    "from sklearn.preprocessing import StandardScaler\n",
    "from sklearn.metrics import precision_score,recall_score,f1_score,accuracy_score,confusion_matrix,classification_report\n",
    "\n",
    "!pip install tensorflow\n",
    "from tensorflow.keras.layers import Dense,Dropout\n",
    "from tensorflow.keras.models import Sequential\n",
    "\n",
    "import warnings\n",
    "warnings.filterwarnings(\"ignore\")"
   ]
  },
  {
   "cell_type": "code",
   "execution_count": 90,
   "id": "caa86a77-7872-4489-b114-0f21e3766df0",
   "metadata": {},
   "outputs": [],
   "source": [
    "df=pd.read_csv(\"Churn_Modelling.csv\")"
   ]
  },
  {
   "cell_type": "code",
   "execution_count": 7,
   "id": "e5734737-b61c-4686-a125-becde8a82ae0",
   "metadata": {},
   "outputs": [
    {
     "data": {
      "text/html": [
       "<div>\n",
       "<style scoped>\n",
       "    .dataframe tbody tr th:only-of-type {\n",
       "        vertical-align: middle;\n",
       "    }\n",
       "\n",
       "    .dataframe tbody tr th {\n",
       "        vertical-align: top;\n",
       "    }\n",
       "\n",
       "    .dataframe thead th {\n",
       "        text-align: right;\n",
       "    }\n",
       "</style>\n",
       "<table border=\"1\" class=\"dataframe\">\n",
       "  <thead>\n",
       "    <tr style=\"text-align: right;\">\n",
       "      <th></th>\n",
       "      <th>RowNumber</th>\n",
       "      <th>CustomerId</th>\n",
       "      <th>Surname</th>\n",
       "      <th>CreditScore</th>\n",
       "      <th>Geography</th>\n",
       "      <th>Gender</th>\n",
       "      <th>Age</th>\n",
       "      <th>Tenure</th>\n",
       "      <th>Balance</th>\n",
       "      <th>NumOfProducts</th>\n",
       "      <th>HasCrCard</th>\n",
       "      <th>IsActiveMember</th>\n",
       "      <th>EstimatedSalary</th>\n",
       "      <th>Exited</th>\n",
       "    </tr>\n",
       "  </thead>\n",
       "  <tbody>\n",
       "    <tr>\n",
       "      <th>0</th>\n",
       "      <td>1</td>\n",
       "      <td>15634602</td>\n",
       "      <td>Hargrave</td>\n",
       "      <td>619</td>\n",
       "      <td>France</td>\n",
       "      <td>Female</td>\n",
       "      <td>42</td>\n",
       "      <td>2</td>\n",
       "      <td>0.00</td>\n",
       "      <td>1</td>\n",
       "      <td>1</td>\n",
       "      <td>1</td>\n",
       "      <td>101348.88</td>\n",
       "      <td>1</td>\n",
       "    </tr>\n",
       "    <tr>\n",
       "      <th>1</th>\n",
       "      <td>2</td>\n",
       "      <td>15647311</td>\n",
       "      <td>Hill</td>\n",
       "      <td>608</td>\n",
       "      <td>Spain</td>\n",
       "      <td>Female</td>\n",
       "      <td>41</td>\n",
       "      <td>1</td>\n",
       "      <td>83807.86</td>\n",
       "      <td>1</td>\n",
       "      <td>0</td>\n",
       "      <td>1</td>\n",
       "      <td>112542.58</td>\n",
       "      <td>0</td>\n",
       "    </tr>\n",
       "    <tr>\n",
       "      <th>2</th>\n",
       "      <td>3</td>\n",
       "      <td>15619304</td>\n",
       "      <td>Onio</td>\n",
       "      <td>502</td>\n",
       "      <td>France</td>\n",
       "      <td>Female</td>\n",
       "      <td>42</td>\n",
       "      <td>8</td>\n",
       "      <td>159660.80</td>\n",
       "      <td>3</td>\n",
       "      <td>1</td>\n",
       "      <td>0</td>\n",
       "      <td>113931.57</td>\n",
       "      <td>1</td>\n",
       "    </tr>\n",
       "    <tr>\n",
       "      <th>3</th>\n",
       "      <td>4</td>\n",
       "      <td>15701354</td>\n",
       "      <td>Boni</td>\n",
       "      <td>699</td>\n",
       "      <td>France</td>\n",
       "      <td>Female</td>\n",
       "      <td>39</td>\n",
       "      <td>1</td>\n",
       "      <td>0.00</td>\n",
       "      <td>2</td>\n",
       "      <td>0</td>\n",
       "      <td>0</td>\n",
       "      <td>93826.63</td>\n",
       "      <td>0</td>\n",
       "    </tr>\n",
       "    <tr>\n",
       "      <th>4</th>\n",
       "      <td>5</td>\n",
       "      <td>15737888</td>\n",
       "      <td>Mitchell</td>\n",
       "      <td>850</td>\n",
       "      <td>Spain</td>\n",
       "      <td>Female</td>\n",
       "      <td>43</td>\n",
       "      <td>2</td>\n",
       "      <td>125510.82</td>\n",
       "      <td>1</td>\n",
       "      <td>1</td>\n",
       "      <td>1</td>\n",
       "      <td>79084.10</td>\n",
       "      <td>0</td>\n",
       "    </tr>\n",
       "  </tbody>\n",
       "</table>\n",
       "</div>"
      ],
      "text/plain": [
       "   RowNumber  CustomerId   Surname  CreditScore Geography  Gender  Age  \\\n",
       "0          1    15634602  Hargrave          619    France  Female   42   \n",
       "1          2    15647311      Hill          608     Spain  Female   41   \n",
       "2          3    15619304      Onio          502    France  Female   42   \n",
       "3          4    15701354      Boni          699    France  Female   39   \n",
       "4          5    15737888  Mitchell          850     Spain  Female   43   \n",
       "\n",
       "   Tenure    Balance  NumOfProducts  HasCrCard  IsActiveMember  \\\n",
       "0       2       0.00              1          1               1   \n",
       "1       1   83807.86              1          0               1   \n",
       "2       8  159660.80              3          1               0   \n",
       "3       1       0.00              2          0               0   \n",
       "4       2  125510.82              1          1               1   \n",
       "\n",
       "   EstimatedSalary  Exited  \n",
       "0        101348.88       1  \n",
       "1        112542.58       0  \n",
       "2        113931.57       1  \n",
       "3         93826.63       0  \n",
       "4         79084.10       0  "
      ]
     },
     "execution_count": 7,
     "metadata": {},
     "output_type": "execute_result"
    }
   ],
   "source": [
    "df.head()"
   ]
  },
  {
   "cell_type": "markdown",
   "id": "585cdfa1-2c44-4043-b5e1-167f66194643",
   "metadata": {},
   "source": [
    "Data Overview"
   ]
  },
  {
   "cell_type": "code",
   "execution_count": 8,
   "id": "cf22ffed-875c-4ade-ad27-663f8316fc2e",
   "metadata": {},
   "outputs": [
    {
     "name": "stdout",
     "output_type": "stream",
     "text": [
      "<class 'pandas.core.frame.DataFrame'>\n",
      "RangeIndex: 10000 entries, 0 to 9999\n",
      "Data columns (total 14 columns):\n",
      " #   Column           Non-Null Count  Dtype  \n",
      "---  ------           --------------  -----  \n",
      " 0   RowNumber        10000 non-null  int64  \n",
      " 1   CustomerId       10000 non-null  int64  \n",
      " 2   Surname          10000 non-null  object \n",
      " 3   CreditScore      10000 non-null  int64  \n",
      " 4   Geography        10000 non-null  object \n",
      " 5   Gender           10000 non-null  object \n",
      " 6   Age              10000 non-null  int64  \n",
      " 7   Tenure           10000 non-null  int64  \n",
      " 8   Balance          10000 non-null  float64\n",
      " 9   NumOfProducts    10000 non-null  int64  \n",
      " 10  HasCrCard        10000 non-null  int64  \n",
      " 11  IsActiveMember   10000 non-null  int64  \n",
      " 12  EstimatedSalary  10000 non-null  float64\n",
      " 13  Exited           10000 non-null  int64  \n",
      "dtypes: float64(2), int64(9), object(3)\n",
      "memory usage: 1.1+ MB\n"
     ]
    }
   ],
   "source": [
    "df.info()"
   ]
  },
  {
   "cell_type": "code",
   "execution_count": 9,
   "id": "7841d465-7c9f-40b4-804f-eec3526c2c1b",
   "metadata": {},
   "outputs": [
    {
     "data": {
      "text/html": [
       "<div>\n",
       "<style scoped>\n",
       "    .dataframe tbody tr th:only-of-type {\n",
       "        vertical-align: middle;\n",
       "    }\n",
       "\n",
       "    .dataframe tbody tr th {\n",
       "        vertical-align: top;\n",
       "    }\n",
       "\n",
       "    .dataframe thead th {\n",
       "        text-align: right;\n",
       "    }\n",
       "</style>\n",
       "<table border=\"1\" class=\"dataframe\">\n",
       "  <thead>\n",
       "    <tr style=\"text-align: right;\">\n",
       "      <th></th>\n",
       "      <th>RowNumber</th>\n",
       "      <th>CustomerId</th>\n",
       "      <th>CreditScore</th>\n",
       "      <th>Age</th>\n",
       "      <th>Tenure</th>\n",
       "      <th>Balance</th>\n",
       "      <th>NumOfProducts</th>\n",
       "      <th>HasCrCard</th>\n",
       "      <th>IsActiveMember</th>\n",
       "      <th>EstimatedSalary</th>\n",
       "      <th>Exited</th>\n",
       "    </tr>\n",
       "  </thead>\n",
       "  <tbody>\n",
       "    <tr>\n",
       "      <th>count</th>\n",
       "      <td>10000.00000</td>\n",
       "      <td>1.000000e+04</td>\n",
       "      <td>10000.000000</td>\n",
       "      <td>10000.000000</td>\n",
       "      <td>10000.000000</td>\n",
       "      <td>10000.000000</td>\n",
       "      <td>10000.000000</td>\n",
       "      <td>10000.00000</td>\n",
       "      <td>10000.000000</td>\n",
       "      <td>10000.000000</td>\n",
       "      <td>10000.000000</td>\n",
       "    </tr>\n",
       "    <tr>\n",
       "      <th>mean</th>\n",
       "      <td>5000.50000</td>\n",
       "      <td>1.569094e+07</td>\n",
       "      <td>650.528800</td>\n",
       "      <td>38.921800</td>\n",
       "      <td>5.012800</td>\n",
       "      <td>76485.889288</td>\n",
       "      <td>1.530200</td>\n",
       "      <td>0.70550</td>\n",
       "      <td>0.515100</td>\n",
       "      <td>100090.239881</td>\n",
       "      <td>0.203700</td>\n",
       "    </tr>\n",
       "    <tr>\n",
       "      <th>std</th>\n",
       "      <td>2886.89568</td>\n",
       "      <td>7.193619e+04</td>\n",
       "      <td>96.653299</td>\n",
       "      <td>10.487806</td>\n",
       "      <td>2.892174</td>\n",
       "      <td>62397.405202</td>\n",
       "      <td>0.581654</td>\n",
       "      <td>0.45584</td>\n",
       "      <td>0.499797</td>\n",
       "      <td>57510.492818</td>\n",
       "      <td>0.402769</td>\n",
       "    </tr>\n",
       "    <tr>\n",
       "      <th>min</th>\n",
       "      <td>1.00000</td>\n",
       "      <td>1.556570e+07</td>\n",
       "      <td>350.000000</td>\n",
       "      <td>18.000000</td>\n",
       "      <td>0.000000</td>\n",
       "      <td>0.000000</td>\n",
       "      <td>1.000000</td>\n",
       "      <td>0.00000</td>\n",
       "      <td>0.000000</td>\n",
       "      <td>11.580000</td>\n",
       "      <td>0.000000</td>\n",
       "    </tr>\n",
       "    <tr>\n",
       "      <th>25%</th>\n",
       "      <td>2500.75000</td>\n",
       "      <td>1.562853e+07</td>\n",
       "      <td>584.000000</td>\n",
       "      <td>32.000000</td>\n",
       "      <td>3.000000</td>\n",
       "      <td>0.000000</td>\n",
       "      <td>1.000000</td>\n",
       "      <td>0.00000</td>\n",
       "      <td>0.000000</td>\n",
       "      <td>51002.110000</td>\n",
       "      <td>0.000000</td>\n",
       "    </tr>\n",
       "    <tr>\n",
       "      <th>50%</th>\n",
       "      <td>5000.50000</td>\n",
       "      <td>1.569074e+07</td>\n",
       "      <td>652.000000</td>\n",
       "      <td>37.000000</td>\n",
       "      <td>5.000000</td>\n",
       "      <td>97198.540000</td>\n",
       "      <td>1.000000</td>\n",
       "      <td>1.00000</td>\n",
       "      <td>1.000000</td>\n",
       "      <td>100193.915000</td>\n",
       "      <td>0.000000</td>\n",
       "    </tr>\n",
       "    <tr>\n",
       "      <th>75%</th>\n",
       "      <td>7500.25000</td>\n",
       "      <td>1.575323e+07</td>\n",
       "      <td>718.000000</td>\n",
       "      <td>44.000000</td>\n",
       "      <td>7.000000</td>\n",
       "      <td>127644.240000</td>\n",
       "      <td>2.000000</td>\n",
       "      <td>1.00000</td>\n",
       "      <td>1.000000</td>\n",
       "      <td>149388.247500</td>\n",
       "      <td>0.000000</td>\n",
       "    </tr>\n",
       "    <tr>\n",
       "      <th>max</th>\n",
       "      <td>10000.00000</td>\n",
       "      <td>1.581569e+07</td>\n",
       "      <td>850.000000</td>\n",
       "      <td>92.000000</td>\n",
       "      <td>10.000000</td>\n",
       "      <td>250898.090000</td>\n",
       "      <td>4.000000</td>\n",
       "      <td>1.00000</td>\n",
       "      <td>1.000000</td>\n",
       "      <td>199992.480000</td>\n",
       "      <td>1.000000</td>\n",
       "    </tr>\n",
       "  </tbody>\n",
       "</table>\n",
       "</div>"
      ],
      "text/plain": [
       "         RowNumber    CustomerId   CreditScore           Age        Tenure  \\\n",
       "count  10000.00000  1.000000e+04  10000.000000  10000.000000  10000.000000   \n",
       "mean    5000.50000  1.569094e+07    650.528800     38.921800      5.012800   \n",
       "std     2886.89568  7.193619e+04     96.653299     10.487806      2.892174   \n",
       "min        1.00000  1.556570e+07    350.000000     18.000000      0.000000   \n",
       "25%     2500.75000  1.562853e+07    584.000000     32.000000      3.000000   \n",
       "50%     5000.50000  1.569074e+07    652.000000     37.000000      5.000000   \n",
       "75%     7500.25000  1.575323e+07    718.000000     44.000000      7.000000   \n",
       "max    10000.00000  1.581569e+07    850.000000     92.000000     10.000000   \n",
       "\n",
       "             Balance  NumOfProducts    HasCrCard  IsActiveMember  \\\n",
       "count   10000.000000   10000.000000  10000.00000    10000.000000   \n",
       "mean    76485.889288       1.530200      0.70550        0.515100   \n",
       "std     62397.405202       0.581654      0.45584        0.499797   \n",
       "min         0.000000       1.000000      0.00000        0.000000   \n",
       "25%         0.000000       1.000000      0.00000        0.000000   \n",
       "50%     97198.540000       1.000000      1.00000        1.000000   \n",
       "75%    127644.240000       2.000000      1.00000        1.000000   \n",
       "max    250898.090000       4.000000      1.00000        1.000000   \n",
       "\n",
       "       EstimatedSalary        Exited  \n",
       "count     10000.000000  10000.000000  \n",
       "mean     100090.239881      0.203700  \n",
       "std       57510.492818      0.402769  \n",
       "min          11.580000      0.000000  \n",
       "25%       51002.110000      0.000000  \n",
       "50%      100193.915000      0.000000  \n",
       "75%      149388.247500      0.000000  \n",
       "max      199992.480000      1.000000  "
      ]
     },
     "execution_count": 9,
     "metadata": {},
     "output_type": "execute_result"
    }
   ],
   "source": [
    "df.describe()"
   ]
  },
  {
   "cell_type": "code",
   "execution_count": 10,
   "id": "16ca702e-84a7-489c-acf5-db6ccd0ddac0",
   "metadata": {},
   "outputs": [
    {
     "data": {
      "text/html": [
       "<div>\n",
       "<style scoped>\n",
       "    .dataframe tbody tr th:only-of-type {\n",
       "        vertical-align: middle;\n",
       "    }\n",
       "\n",
       "    .dataframe tbody tr th {\n",
       "        vertical-align: top;\n",
       "    }\n",
       "\n",
       "    .dataframe thead th {\n",
       "        text-align: right;\n",
       "    }\n",
       "</style>\n",
       "<table border=\"1\" class=\"dataframe\">\n",
       "  <thead>\n",
       "    <tr style=\"text-align: right;\">\n",
       "      <th></th>\n",
       "      <th>Surname</th>\n",
       "      <th>Geography</th>\n",
       "      <th>Gender</th>\n",
       "    </tr>\n",
       "  </thead>\n",
       "  <tbody>\n",
       "    <tr>\n",
       "      <th>count</th>\n",
       "      <td>10000</td>\n",
       "      <td>10000</td>\n",
       "      <td>10000</td>\n",
       "    </tr>\n",
       "    <tr>\n",
       "      <th>unique</th>\n",
       "      <td>2932</td>\n",
       "      <td>3</td>\n",
       "      <td>2</td>\n",
       "    </tr>\n",
       "    <tr>\n",
       "      <th>top</th>\n",
       "      <td>Smith</td>\n",
       "      <td>France</td>\n",
       "      <td>Male</td>\n",
       "    </tr>\n",
       "    <tr>\n",
       "      <th>freq</th>\n",
       "      <td>32</td>\n",
       "      <td>5014</td>\n",
       "      <td>5457</td>\n",
       "    </tr>\n",
       "  </tbody>\n",
       "</table>\n",
       "</div>"
      ],
      "text/plain": [
       "       Surname Geography Gender\n",
       "count    10000     10000  10000\n",
       "unique    2932         3      2\n",
       "top      Smith    France   Male\n",
       "freq        32      5014   5457"
      ]
     },
     "execution_count": 10,
     "metadata": {},
     "output_type": "execute_result"
    }
   ],
   "source": [
    "df.describe(include='object')"
   ]
  },
  {
   "cell_type": "markdown",
   "id": "f04e6748-8b3f-4f46-87b3-1b14e4dd0d4c",
   "metadata": {},
   "source": [
    "Exploratory Data Analysis"
   ]
  },
  {
   "cell_type": "code",
   "execution_count": 36,
   "id": "4b3223e0-3dd1-40b3-80b4-caf4d5a8bf75",
   "metadata": {},
   "outputs": [
    {
     "data": {
      "text/plain": [
       "Exited\n",
       "0    651.853196\n",
       "1    645.351497\n",
       "Name: CreditScore, dtype: float64"
      ]
     },
     "execution_count": 36,
     "metadata": {},
     "output_type": "execute_result"
    }
   ],
   "source": [
    "df.groupby('Exited')['CreditScore'].mean()"
   ]
  },
  {
   "cell_type": "code",
   "execution_count": 43,
   "id": "d1325e7d-ad8a-4346-b4fe-c1e5112a1a61",
   "metadata": {},
   "outputs": [
    {
     "data": {
      "text/plain": [
       "<Axes: xlabel='Exited', ylabel='CreditScore'>"
      ]
     },
     "execution_count": 43,
     "metadata": {},
     "output_type": "execute_result"
    },
    {
     "data": {
      "image/png": "[encoded data removed]",
      "text/plain": [
       "<Figure size 640x480 with 1 Axes>"
      ]
     },
     "metadata": {},
     "output_type": "display_data"
    }
   ],
   "source": [
    "sns.barplot(x='Exited',y='CreditScore',data=df)"
   ]
  },
  {
   "cell_type": "code",
   "execution_count": 42,
   "id": "e4c25596-96c6-4879-8a6e-c0077a4cabcc",
   "metadata": {},
   "outputs": [
    {
     "data": {
      "text/plain": [
       "Geography  Exited\n",
       "France     0         651.162226\n",
       "           1         641.914815\n",
       "Germany    0         653.261357\n",
       "           1         647.689189\n",
       "Spain      0         652.104167\n",
       "           1         647.484262\n",
       "Name: CreditScore, dtype: float64"
      ]
     },
     "execution_count": 42,
     "metadata": {},
     "output_type": "execute_result"
    }
   ],
   "source": [
    "df.groupby(['Geography','Exited'])['CreditScore'].mean()"
   ]
  },
  {
   "cell_type": "code",
   "execution_count": 41,
   "id": "c25de4cb-eb43-4968-81d5-6c189a59bf01",
   "metadata": {},
   "outputs": [
    {
     "data": {
      "image/png": "[encoded data removed]",
      "text/plain": [
       "<Figure size 640x480 with 1 Axes>"
      ]
     },
     "metadata": {},
     "output_type": "display_data"
    }
   ],
   "source": [
    "\n",
    "sns.barplot(x='Geography',y='CreditScore',hue='Exited',data=df)\n",
    "plt.show()"
   ]
  },
  {
   "cell_type": "code",
   "execution_count": 55,
   "id": "73c1c7a5-1c05-442c-88b1-991540f1116a",
   "metadata": {},
   "outputs": [
    {
     "data": {
      "text/plain": [
       "Exited  Gender\n",
       "0       Female    3404\n",
       "        Male      4559\n",
       "1       Female    1139\n",
       "        Male       898\n",
       "dtype: int64"
      ]
     },
     "execution_count": 55,
     "metadata": {},
     "output_type": "execute_result"
    },
    {
     "data": {
      "image/png": "[encoded data removed]",
      "text/plain": [
       "<Figure size 640x480 with 1 Axes>"
      ]
     },
     "metadata": {},
     "output_type": "display_data"
    }
   ],
   "source": [
    "sns.countplot(x='Gender',hue='Exited',data=df)\n",
    "df.groupby(['Exited','Gender']).size()\n"
   ]
  },
  {
   "cell_type": "code",
   "execution_count": 56,
   "id": "5d405d6c-dad1-48a3-b74e-7e8db4d7e57a",
   "metadata": {},
   "outputs": [
    {
     "data": {
      "text/plain": [
       "Exited  HasCrCard\n",
       "0       0            2332\n",
       "        1            5631\n",
       "1       0             613\n",
       "        1            1424\n",
       "dtype: int64"
      ]
     },
     "execution_count": 56,
     "metadata": {},
     "output_type": "execute_result"
    },
    {
     "data": {
      "image/png": "[encoded data removed]",
      "text/plain": [
       "<Figure size 640x480 with 1 Axes>"
      ]
     },
     "metadata": {},
     "output_type": "display_data"
    }
   ],
   "source": [
    "sns.countplot(x='HasCrCard',hue='Exited',data=df)\n",
    "df.groupby(['Exited','HasCrCard']).size()"
   ]
  },
  {
   "cell_type": "code",
   "execution_count": 57,
   "id": "5ec0ea80-306b-49a3-ab61-2d10ac7067da",
   "metadata": {},
   "outputs": [
    {
     "data": {
      "text/plain": [
       "Exited  Geography\n",
       "0       France       4204\n",
       "        Germany      1695\n",
       "        Spain        2064\n",
       "1       France        810\n",
       "        Germany       814\n",
       "        Spain         413\n",
       "dtype: int64"
      ]
     },
     "execution_count": 57,
     "metadata": {},
     "output_type": "execute_result"
    },
    {
     "data": {
      "image/png": "[encoded data removed]",
      "text/plain": [
       "<Figure size 640x480 with 1 Axes>"
      ]
     },
     "metadata": {},
     "output_type": "display_data"
    }
   ],
   "source": [
    "\n",
    "sns.countplot(x='Geography',hue='Exited',data=df)\n",
    "df.groupby(['Exited','Geography']).size()"
   ]
  },
  {
   "cell_type": "code",
   "execution_count": 60,
   "id": "f2856d8c-ce75-41b2-a475-1a9d68301eb4",
   "metadata": {},
   "outputs": [
    {
     "data": {
      "text/plain": [
       "IsActiveMember  Exited\n",
       "0               0         3547\n",
       "                1         1302\n",
       "1               0         4416\n",
       "                1          735\n",
       "dtype: int64"
      ]
     },
     "execution_count": 60,
     "metadata": {},
     "output_type": "execute_result"
    },
    {
     "data": {
      "image/png": "[encoded data removed]",
      "text/plain": [
       "<Figure size 640x480 with 1 Axes>"
      ]
     },
     "metadata": {},
     "output_type": "display_data"
    }
   ],
   "source": [
    "sns.countplot(x='IsActiveMember',data=df,hue='Exited')\n",
    "df.groupby(['IsActiveMember','Exited']).size()"
   ]
  },
  {
   "cell_type": "code",
   "execution_count": 69,
   "id": "1fe46a21-0ec0-49db-beec-14989771cc1e",
   "metadata": {},
   "outputs": [
    {
     "data": {
      "text/plain": [
       "<Axes: xlabel='Age', ylabel='Count'>"
      ]
     },
     "execution_count": 69,
     "metadata": {},
     "output_type": "execute_result"
    },
    {
     "data": {
      "image/png": "[encoded data removed]",
      "text/plain": [
       "<Figure size 640x480 with 1 Axes>"
      ]
     },
     "metadata": {},
     "output_type": "display_data"
    }
   ],
   "source": [
    "sns.histplot(x='Age',hue='Exited',data=df,kde=True,multiple='stack')"
   ]
  },
  {
   "cell_type": "code",
   "execution_count": 73,
   "id": "81eacd02-c7ac-4033-9141-9c833329d33b",
   "metadata": {},
   "outputs": [
    {
     "data": {
      "image/png": "[encoded data removed]",
      "text/plain": [
       "<Figure size 640x480 with 1 Axes>"
      ]
     },
     "metadata": {},
     "output_type": "display_data"
    }
   ],
   "source": [
    "sns.boxplot(x='Exited', y='Age', data=df)\n",
    "plt.title('Violin Plot of Age by Exit Status')\n",
    "plt.show()\n"
   ]
  },
  {
   "cell_type": "markdown",
   "id": "615f157d-e7bf-4387-8d3a-dd09ad38c521",
   "metadata": {},
   "source": [
    "Data Preprocessing "
   ]
  },
  {
   "cell_type": "code",
   "execution_count": 76,
   "id": "f00bed08-ee1f-4c67-bf20-d135d0f01400",
   "metadata": {},
   "outputs": [
    {
     "data": {
      "text/plain": [
       "RowNumber          0\n",
       "CustomerId         0\n",
       "Surname            0\n",
       "CreditScore        0\n",
       "Geography          0\n",
       "Gender             0\n",
       "Age                0\n",
       "Tenure             0\n",
       "Balance            0\n",
       "NumOfProducts      0\n",
       "HasCrCard          0\n",
       "IsActiveMember     0\n",
       "EstimatedSalary    0\n",
       "Exited             0\n",
       "dtype: int64"
      ]
     },
     "execution_count": 76,
     "metadata": {},
     "output_type": "execute_result"
    }
   ],
   "source": [
    "df.isnull().sum()"
   ]
  },
  {
   "cell_type": "code",
   "execution_count": 80,
   "id": "90a8a352-8bbe-476b-a6e9-1d9ad31cf894",
   "metadata": {},
   "outputs": [
    {
     "data": {
      "text/plain": [
       "np.int64(0)"
      ]
     },
     "execution_count": 80,
     "metadata": {},
     "output_type": "execute_result"
    }
   ],
   "source": [
    "df.duplicated().sum()"
   ]
  },
  {
   "cell_type": "code",
   "execution_count": 91,
   "id": "e585bd9f-2c09-4312-81cf-0996fb08cd99",
   "metadata": {},
   "outputs": [],
   "source": [
    "#removing unnecessary columns\n",
    "df.drop(['RowNumber','CustomerId','Surname','Geography'],axis=1,inplace=True)"
   ]
  },
  {
   "cell_type": "code",
   "execution_count": 93,
   "id": "ae343782-a242-414e-811b-933be54ae3f9",
   "metadata": {},
   "outputs": [],
   "source": [
    "df['Gender']=df['Gender'].map({'Female':0,'Male':1})"
   ]
  },
  {
   "cell_type": "code",
   "execution_count": 94,
   "id": "69a6b570-e749-4ccc-96c5-b5f8ec089ff2",
   "metadata": {},
   "outputs": [
    {
     "data": {
      "text/html": [
       "<div>\n",
       "<style scoped>\n",
       "    .dataframe tbody tr th:only-of-type {\n",
       "        vertical-align: middle;\n",
       "    }\n",
       "\n",
       "    .dataframe tbody tr th {\n",
       "        vertical-align: top;\n",
       "    }\n",
       "\n",
       "    .dataframe thead th {\n",
       "        text-align: right;\n",
       "    }\n",
       "</style>\n",
       "<table border=\"1\" class=\"dataframe\">\n",
       "  <thead>\n",
       "    <tr style=\"text-align: right;\">\n",
       "      <th></th>\n",
       "      <th>CreditScore</th>\n",
       "      <th>Gender</th>\n",
       "      <th>Age</th>\n",
       "      <th>Tenure</th>\n",
       "      <th>Balance</th>\n",
       "      <th>NumOfProducts</th>\n",
       "      <th>HasCrCard</th>\n",
       "      <th>IsActiveMember</th>\n",
       "      <th>EstimatedSalary</th>\n",
       "      <th>Exited</th>\n",
       "    </tr>\n",
       "  </thead>\n",
       "  <tbody>\n",
       "    <tr>\n",
       "      <th>0</th>\n",
       "      <td>619</td>\n",
       "      <td>0</td>\n",
       "      <td>42</td>\n",
       "      <td>2</td>\n",
       "      <td>0.00</td>\n",
       "      <td>1</td>\n",
       "      <td>1</td>\n",
       "      <td>1</td>\n",
       "      <td>101348.88</td>\n",
       "      <td>1</td>\n",
       "    </tr>\n",
       "    <tr>\n",
       "      <th>1</th>\n",
       "      <td>608</td>\n",
       "      <td>0</td>\n",
       "      <td>41</td>\n",
       "      <td>1</td>\n",
       "      <td>83807.86</td>\n",
       "      <td>1</td>\n",
       "      <td>0</td>\n",
       "      <td>1</td>\n",
       "      <td>112542.58</td>\n",
       "      <td>0</td>\n",
       "    </tr>\n",
       "    <tr>\n",
       "      <th>2</th>\n",
       "      <td>502</td>\n",
       "      <td>0</td>\n",
       "      <td>42</td>\n",
       "      <td>8</td>\n",
       "      <td>159660.80</td>\n",
       "      <td>3</td>\n",
       "      <td>1</td>\n",
       "      <td>0</td>\n",
       "      <td>113931.57</td>\n",
       "      <td>1</td>\n",
       "    </tr>\n",
       "    <tr>\n",
       "      <th>3</th>\n",
       "      <td>699</td>\n",
       "      <td>0</td>\n",
       "      <td>39</td>\n",
       "      <td>1</td>\n",
       "      <td>0.00</td>\n",
       "      <td>2</td>\n",
       "      <td>0</td>\n",
       "      <td>0</td>\n",
       "      <td>93826.63</td>\n",
       "      <td>0</td>\n",
       "    </tr>\n",
       "    <tr>\n",
       "      <th>4</th>\n",
       "      <td>850</td>\n",
       "      <td>0</td>\n",
       "      <td>43</td>\n",
       "      <td>2</td>\n",
       "      <td>125510.82</td>\n",
       "      <td>1</td>\n",
       "      <td>1</td>\n",
       "      <td>1</td>\n",
       "      <td>79084.10</td>\n",
       "      <td>0</td>\n",
       "    </tr>\n",
       "  </tbody>\n",
       "</table>\n",
       "</div>"
      ],
      "text/plain": [
       "   CreditScore  Gender  Age  Tenure    Balance  NumOfProducts  HasCrCard  \\\n",
       "0          619       0   42       2       0.00              1          1   \n",
       "1          608       0   41       1   83807.86              1          0   \n",
       "2          502       0   42       8  159660.80              3          1   \n",
       "3          699       0   39       1       0.00              2          0   \n",
       "4          850       0   43       2  125510.82              1          1   \n",
       "\n",
       "   IsActiveMember  EstimatedSalary  Exited  \n",
       "0               1        101348.88       1  \n",
       "1               1        112542.58       0  \n",
       "2               0        113931.57       1  \n",
       "3               0         93826.63       0  \n",
       "4               1         79084.10       0  "
      ]
     },
     "execution_count": 94,
     "metadata": {},
     "output_type": "execute_result"
    }
   ],
   "source": [
    "df.head()"
   ]
  },
  {
   "cell_type": "markdown",
   "id": "a3c80e60-33a8-4518-a086-af6c02e741f9",
   "metadata": {},
   "source": [
    "Defining features and target variable"
   ]
  },
  {
   "cell_type": "code",
   "execution_count": 95,
   "id": "1caab37e-9d0e-4b42-a9c3-d0257d9dceb3",
   "metadata": {},
   "outputs": [],
   "source": [
    "X=df.drop(['Exited'],axis=1)\n",
    "y=df['Exited']"
   ]
  },
  {
   "cell_type": "code",
   "execution_count": 98,
   "id": "0b9a8592-483a-4de0-a256-4a13247c4b96",
   "metadata": {},
   "outputs": [],
   "source": [
    "#splitting data to train and testing set\n",
    "X_train,X_test,y_train,y_test=train_test_split(X,y,test_size=0.2,random_state=42)"
   ]
  },
  {
   "cell_type": "code",
   "execution_count": 108,
   "id": "76bb7f24-e9f7-4b06-b32e-44df421b30a6",
   "metadata": {},
   "outputs": [
    {
     "name": "stdout",
     "output_type": "stream",
     "text": [
      "no of rows in train dataset 8000\n",
      "no of rows in test dataset 2000\n"
     ]
    }
   ],
   "source": [
    "print(\"no of rows in train dataset\",y_train.shape[0])\n",
    "print(\"no of rows in test dataset\",y_test.shape[0])"
   ]
  },
  {
   "cell_type": "markdown",
   "id": "5adf0966-7df5-4c10-ad8c-557e206f8535",
   "metadata": {},
   "source": [
    "Model Building"
   ]
  },
  {
   "cell_type": "code",
   "execution_count": null,
   "id": "6cc5b294-65e2-4429-81f6-475442bebbbc",
   "metadata": {},
   "outputs": [],
   "source": [
    "#function to evaluate metrics\n",
    "from sklearn.metrics import accuracy_score,recall_score,precision_score,f1_score\n",
    "def metrics_evaluation(model,predictors,target):\n",
    "    #predicting values of  data\n",
    "    y_pred=model.predict(predictors)\n",
    "    y_pred = (y_pred > 0.5)\n",
    "    \n",
    "    #metrics evaluation\n",
    "    f1=f1_score(target,y_pred)\n",
    "    recall=recall_score(target,y_pred)\n",
    "    precision=precision_score(target,y_pred)\n",
    "    accuracy=accuracy_score(target,y_pred)\n",
    "    \n",
    "    perf=pd.DataFrame({\n",
    "        'Accuracy':accuracy,\n",
    "        'Precision':precision,\n",
    "        'Recall': recall,\n",
    "        'f1_score':f1},index=[0])\n",
    "    return perf"
   ]
  },
  {
   "cell_type": "code",
   "execution_count": null,
   "id": "76bde949-9942-4215-9e1d-c6a4495638be",
   "metadata": {},
   "outputs": [],
   "source": [
    "from sklearn.metrics import confusion_matrix\n",
    "#function for confusion matrix\n",
    "def confusion_mat(model,predictors,target):\n",
    "    #predicting values of data\n",
    "    y_pred=model.predict(predictors)\n",
    "    y_pred = (y_pred > 0.5)\n",
    "\n",
    "\n",
    "    #confusion matrix\n",
    "    cm=confusion_matrix(target,y_pred)\n",
    "\n",
    "    labels=np.asarray(\n",
    "        [\n",
    "            [\"{0:0.0f}\".format(item) + \"\\n{0:.2%}\".format(item / cm.flatten().sum())]\n",
    "            for item in cm.flatten()\n",
    "        ]\n",
    "    ).reshape(2,2)\n",
    "    plt.figure(figsize=(6,4))\n",
    "    sns.heatmap(cm,annot=labels,fmt=\"\")\n",
    "    plt.xlabel(\"Predicted values\")\n",
    "    plt.ylabel(\"True values\")\n",
    "    plt.show()\n",
    "    "
   ]
  },
  {
   "cell_type": "code",
   "execution_count": 111,
   "id": "f6879d6c-65dc-4c02-8496-90ab1cad6b1e",
   "metadata": {},
   "outputs": [],
   "source": [
    "#scaling the Features\n",
    "scaler=StandardScaler()\n",
    "X_train=scaler.fit_transform(X_train)\n",
    "X_test=scaler.transform(X_test)"
   ]
  },
  {
   "cell_type": "code",
   "execution_count": 113,
   "id": "e0e66a39-0434-49c2-b3c7-e9722a933546",
   "metadata": {},
   "outputs": [
    {
     "data": {
      "text/plain": [
       "array([ 0.35649971,  0.91324755, -0.6557859 ,  0.34567966, -1.21847056,\n",
       "        0.80843615,  0.64920267,  0.97481699,  1.36766974])"
      ]
     },
     "execution_count": 113,
     "metadata": {},
     "output_type": "execute_result"
    }
   ],
   "source": [
    "X_train[0]"
   ]
  },
  {
   "cell_type": "code",
   "execution_count": 119,
   "id": "2a43e7e4-3090-41a8-ab97-1f811600a5a2",
   "metadata": {},
   "outputs": [
    {
     "data": {
      "text/html": [
       "<pre style=\"white-space:pre;overflow-x:auto;line-height:normal;font-family:Menlo,'DejaVu Sans Mono',consolas,'Courier New',monospace\"><span style=\"font-weight: bold\">Model: \"sequential_2\"</span>\n",
       "</pre>\n"
      ],
      "text/plain": [
       "\u001b[1mModel: \"sequential_2\"\u001b[0m\n"
      ]
     },
     "metadata": {},
     "output_type": "display_data"
    },
    {
     "data": {
      "text/html": [
       "<pre style=\"white-space:pre;overflow-x:auto;line-height:normal;font-family:Menlo,'DejaVu Sans Mono',consolas,'Courier New',monospace\">┏━━━━━━━━━━━━━━━━━━━━━━━━━━━━━━━━━━━━━━┳━━━━━━━━━━━━━━━━━━━━━━━━━━━━━┳━━━━━━━━━━━━━━━━━┓\n",
       "┃<span style=\"font-weight: bold\"> Layer (type)                         </span>┃<span style=\"font-weight: bold\"> Output Shape                </span>┃<span style=\"font-weight: bold\">         Param # </span>┃\n",
       "┡━━━━━━━━━━━━━━━━━━━━━━━━━━━━━━━━━━━━━━╇━━━━━━━━━━━━━━━━━━━━━━━━━━━━━╇━━━━━━━━━━━━━━━━━┩\n",
       "│ dense_8 (<span style=\"color: #0087ff; text-decoration-color: #0087ff\">Dense</span>)                      │ (<span style=\"color: #00d7ff; text-decoration-color: #00d7ff\">None</span>, <span style=\"color: #00af00; text-decoration-color: #00af00\">10</span>)                  │             <span style=\"color: #00af00; text-decoration-color: #00af00\">100</span> │\n",
       "├──────────────────────────────────────┼─────────────────────────────┼─────────────────┤\n",
       "│ dense_9 (<span style=\"color: #0087ff; text-decoration-color: #0087ff\">Dense</span>)                      │ (<span style=\"color: #00d7ff; text-decoration-color: #00d7ff\">None</span>, <span style=\"color: #00af00; text-decoration-color: #00af00\">20</span>)                  │             <span style=\"color: #00af00; text-decoration-color: #00af00\">220</span> │\n",
       "├──────────────────────────────────────┼─────────────────────────────┼─────────────────┤\n",
       "│ dense_10 (<span style=\"color: #0087ff; text-decoration-color: #0087ff\">Dense</span>)                     │ (<span style=\"color: #00d7ff; text-decoration-color: #00d7ff\">None</span>, <span style=\"color: #00af00; text-decoration-color: #00af00\">10</span>)                  │             <span style=\"color: #00af00; text-decoration-color: #00af00\">210</span> │\n",
       "├──────────────────────────────────────┼─────────────────────────────┼─────────────────┤\n",
       "│ dense_11 (<span style=\"color: #0087ff; text-decoration-color: #0087ff\">Dense</span>)                     │ (<span style=\"color: #00d7ff; text-decoration-color: #00d7ff\">None</span>, <span style=\"color: #00af00; text-decoration-color: #00af00\">1</span>)                   │              <span style=\"color: #00af00; text-decoration-color: #00af00\">11</span> │\n",
       "└──────────────────────────────────────┴─────────────────────────────┴─────────────────┘\n",
       "</pre>\n"
      ],
      "text/plain": [
       "┏━━━━━━━━━━━━━━━━━━━━━━━━━━━━━━━━━━━━━━┳━━━━━━━━━━━━━━━━━━━━━━━━━━━━━┳━━━━━━━━━━━━━━━━━┓\n",
       "┃\u001b[1m \u001b[0m\u001b[1mLayer (type)                        \u001b[0m\u001b[1m \u001b[0m┃\u001b[1m \u001b[0m\u001b[1mOutput Shape               \u001b[0m\u001b[1m \u001b[0m┃\u001b[1m \u001b[0m\u001b[1m        Param #\u001b[0m\u001b[1m \u001b[0m┃\n",
       "┡━━━━━━━━━━━━━━━━━━━━━━━━━━━━━━━━━━━━━━╇━━━━━━━━━━━━━━━━━━━━━━━━━━━━━╇━━━━━━━━━━━━━━━━━┩\n",
       "│ dense_8 (\u001b[38;5;33mDense\u001b[0m)                      │ (\u001b[38;5;45mNone\u001b[0m, \u001b[38;5;34m10\u001b[0m)                  │             \u001b[38;5;34m100\u001b[0m │\n",
       "├──────────────────────────────────────┼─────────────────────────────┼─────────────────┤\n",
       "│ dense_9 (\u001b[38;5;33mDense\u001b[0m)                      │ (\u001b[38;5;45mNone\u001b[0m, \u001b[38;5;34m20\u001b[0m)                  │             \u001b[38;5;34m220\u001b[0m │\n",
       "├──────────────────────────────────────┼─────────────────────────────┼─────────────────┤\n",
       "│ dense_10 (\u001b[38;5;33mDense\u001b[0m)                     │ (\u001b[38;5;45mNone\u001b[0m, \u001b[38;5;34m10\u001b[0m)                  │             \u001b[38;5;34m210\u001b[0m │\n",
       "├──────────────────────────────────────┼─────────────────────────────┼─────────────────┤\n",
       "│ dense_11 (\u001b[38;5;33mDense\u001b[0m)                     │ (\u001b[38;5;45mNone\u001b[0m, \u001b[38;5;34m1\u001b[0m)                   │              \u001b[38;5;34m11\u001b[0m │\n",
       "└──────────────────────────────────────┴─────────────────────────────┴─────────────────┘\n"
      ]
     },
     "metadata": {},
     "output_type": "display_data"
    },
    {
     "data": {
      "text/html": [
       "<pre style=\"white-space:pre;overflow-x:auto;line-height:normal;font-family:Menlo,'DejaVu Sans Mono',consolas,'Courier New',monospace\"><span style=\"font-weight: bold\"> Total params: </span><span style=\"color: #00af00; text-decoration-color: #00af00\">541</span> (2.11 KB)\n",
       "</pre>\n"
      ],
      "text/plain": [
       "\u001b[1m Total params: \u001b[0m\u001b[38;5;34m541\u001b[0m (2.11 KB)\n"
      ]
     },
     "metadata": {},
     "output_type": "display_data"
    },
    {
     "data": {
      "text/html": [
       "<pre style=\"white-space:pre;overflow-x:auto;line-height:normal;font-family:Menlo,'DejaVu Sans Mono',consolas,'Courier New',monospace\"><span style=\"font-weight: bold\"> Trainable params: </span><span style=\"color: #00af00; text-decoration-color: #00af00\">541</span> (2.11 KB)\n",
       "</pre>\n"
      ],
      "text/plain": [
       "\u001b[1m Trainable params: \u001b[0m\u001b[38;5;34m541\u001b[0m (2.11 KB)\n"
      ]
     },
     "metadata": {},
     "output_type": "display_data"
    },
    {
     "data": {
      "text/html": [
       "<pre style=\"white-space:pre;overflow-x:auto;line-height:normal;font-family:Menlo,'DejaVu Sans Mono',consolas,'Courier New',monospace\"><span style=\"font-weight: bold\"> Non-trainable params: </span><span style=\"color: #00af00; text-decoration-color: #00af00\">0</span> (0.00 B)\n",
       "</pre>\n"
      ],
      "text/plain": [
       "\u001b[1m Non-trainable params: \u001b[0m\u001b[38;5;34m0\u001b[0m (0.00 B)\n"
      ]
     },
     "metadata": {},
     "output_type": "display_data"
    },
    {
     "name": "stdout",
     "output_type": "stream",
     "text": [
      "Epoch 1/50\n",
      "\u001b[1m200/200\u001b[0m \u001b[32m━━━━━━━━━━━━━━━━━━━━\u001b[0m\u001b[37m\u001b[0m \u001b[1m2s\u001b[0m 4ms/step - accuracy: 0.7917 - loss: 0.5510 - val_accuracy: 0.7994 - val_loss: 0.4449\n",
      "Epoch 2/50\n",
      "\u001b[1m200/200\u001b[0m \u001b[32m━━━━━━━━━━━━━━━━━━━━\u001b[0m\u001b[37m\u001b[0m \u001b[1m1s\u001b[0m 3ms/step - accuracy: 0.8014 - loss: 0.4473 - val_accuracy: 0.8144 - val_loss: 0.4226\n",
      "Epoch 3/50\n",
      "\u001b[1m200/200\u001b[0m \u001b[32m━━━━━━━━━━━━━━━━━━━━\u001b[0m\u001b[37m\u001b[0m \u001b[1m1s\u001b[0m 3ms/step - accuracy: 0.8076 - loss: 0.4284 - val_accuracy: 0.8238 - val_loss: 0.4114\n",
      "Epoch 4/50\n",
      "\u001b[1m200/200\u001b[0m \u001b[32m━━━━━━━━━━━━━━━━━━━━\u001b[0m\u001b[37m\u001b[0m \u001b[1m1s\u001b[0m 3ms/step - accuracy: 0.8117 - loss: 0.4247 - val_accuracy: 0.8244 - val_loss: 0.4050\n",
      "Epoch 5/50\n",
      "\u001b[1m200/200\u001b[0m \u001b[32m━━━━━━━━━━━━━━━━━━━━\u001b[0m\u001b[37m\u001b[0m \u001b[1m1s\u001b[0m 3ms/step - accuracy: 0.8138 - loss: 0.4152 - val_accuracy: 0.8244 - val_loss: 0.3984\n",
      "Epoch 6/50\n",
      "\u001b[1m200/200\u001b[0m \u001b[32m━━━━━━━━━━━━━━━━━━━━\u001b[0m\u001b[37m\u001b[0m \u001b[1m1s\u001b[0m 4ms/step - accuracy: 0.8160 - loss: 0.4070 - val_accuracy: 0.8338 - val_loss: 0.3906\n",
      "Epoch 7/50\n",
      "\u001b[1m200/200\u001b[0m \u001b[32m━━━━━━━━━━━━━━━━━━━━\u001b[0m\u001b[37m\u001b[0m \u001b[1m1s\u001b[0m 3ms/step - accuracy: 0.8308 - loss: 0.3833 - val_accuracy: 0.8438 - val_loss: 0.3816\n",
      "Epoch 8/50\n",
      "\u001b[1m200/200\u001b[0m \u001b[32m━━━━━━━━━━━━━━━━━━━━\u001b[0m\u001b[37m\u001b[0m \u001b[1m1s\u001b[0m 3ms/step - accuracy: 0.8401 - loss: 0.3786 - val_accuracy: 0.8462 - val_loss: 0.3750\n",
      "Epoch 9/50\n",
      "\u001b[1m200/200\u001b[0m \u001b[32m━━━━━━━━━━━━━━━━━━━━\u001b[0m\u001b[37m\u001b[0m \u001b[1m1s\u001b[0m 3ms/step - accuracy: 0.8464 - loss: 0.3751 - val_accuracy: 0.8462 - val_loss: 0.3668\n",
      "Epoch 10/50\n",
      "\u001b[1m200/200\u001b[0m \u001b[32m━━━━━━━━━━━━━━━━━━━━\u001b[0m\u001b[37m\u001b[0m \u001b[1m1s\u001b[0m 3ms/step - accuracy: 0.8512 - loss: 0.3621 - val_accuracy: 0.8500 - val_loss: 0.3638\n",
      "Epoch 11/50\n",
      "\u001b[1m200/200\u001b[0m \u001b[32m━━━━━━━━━━━━━━━━━━━━\u001b[0m\u001b[37m\u001b[0m \u001b[1m1s\u001b[0m 3ms/step - accuracy: 0.8516 - loss: 0.3578 - val_accuracy: 0.8438 - val_loss: 0.3604\n",
      "Epoch 12/50\n",
      "\u001b[1m200/200\u001b[0m \u001b[32m━━━━━━━━━━━━━━━━━━━━\u001b[0m\u001b[37m\u001b[0m \u001b[1m1s\u001b[0m 5ms/step - accuracy: 0.8526 - loss: 0.3531 - val_accuracy: 0.8487 - val_loss: 0.3590\n",
      "Epoch 13/50\n",
      "\u001b[1m200/200\u001b[0m \u001b[32m━━━━━━━━━━━━━━━━━━━━\u001b[0m\u001b[37m\u001b[0m \u001b[1m1s\u001b[0m 4ms/step - accuracy: 0.8551 - loss: 0.3545 - val_accuracy: 0.8438 - val_loss: 0.3575\n",
      "Epoch 14/50\n",
      "\u001b[1m200/200\u001b[0m \u001b[32m━━━━━━━━━━━━━━━━━━━━\u001b[0m\u001b[37m\u001b[0m \u001b[1m1s\u001b[0m 3ms/step - accuracy: 0.8562 - loss: 0.3505 - val_accuracy: 0.8438 - val_loss: 0.3580\n",
      "Epoch 15/50\n",
      "\u001b[1m200/200\u001b[0m \u001b[32m━━━━━━━━━━━━━━━━━━━━\u001b[0m\u001b[37m\u001b[0m \u001b[1m1s\u001b[0m 3ms/step - accuracy: 0.8675 - loss: 0.3335 - val_accuracy: 0.8444 - val_loss: 0.3576\n",
      "Epoch 16/50\n",
      "\u001b[1m200/200\u001b[0m \u001b[32m━━━━━━━━━━━━━━━━━━━━\u001b[0m\u001b[37m\u001b[0m \u001b[1m1s\u001b[0m 3ms/step - accuracy: 0.8564 - loss: 0.3495 - val_accuracy: 0.8475 - val_loss: 0.3570\n",
      "Epoch 17/50\n",
      "\u001b[1m200/200\u001b[0m \u001b[32m━━━━━━━━━━━━━━━━━━━━\u001b[0m\u001b[37m\u001b[0m \u001b[1m1s\u001b[0m 4ms/step - accuracy: 0.8612 - loss: 0.3383 - val_accuracy: 0.8431 - val_loss: 0.3594\n",
      "Epoch 18/50\n",
      "\u001b[1m200/200\u001b[0m \u001b[32m━━━━━━━━━━━━━━━━━━━━\u001b[0m\u001b[37m\u001b[0m \u001b[1m1s\u001b[0m 5ms/step - accuracy: 0.8623 - loss: 0.3404 - val_accuracy: 0.8475 - val_loss: 0.3574\n",
      "Epoch 19/50\n",
      "\u001b[1m200/200\u001b[0m \u001b[32m━━━━━━━━━━━━━━━━━━━━\u001b[0m\u001b[37m\u001b[0m \u001b[1m1s\u001b[0m 3ms/step - accuracy: 0.8571 - loss: 0.3510 - val_accuracy: 0.8413 - val_loss: 0.3575\n",
      "Epoch 20/50\n",
      "\u001b[1m200/200\u001b[0m \u001b[32m━━━━━━━━━━━━━━━━━━━━\u001b[0m\u001b[37m\u001b[0m \u001b[1m1s\u001b[0m 3ms/step - accuracy: 0.8604 - loss: 0.3404 - val_accuracy: 0.8500 - val_loss: 0.3569\n",
      "Epoch 21/50\n",
      "\u001b[1m200/200\u001b[0m \u001b[32m━━━━━━━━━━━━━━━━━━━━\u001b[0m\u001b[37m\u001b[0m \u001b[1m1s\u001b[0m 3ms/step - accuracy: 0.8603 - loss: 0.3328 - val_accuracy: 0.8413 - val_loss: 0.3565\n",
      "Epoch 22/50\n",
      "\u001b[1m200/200\u001b[0m \u001b[32m━━━━━━━━━━━━━━━━━━━━\u001b[0m\u001b[37m\u001b[0m \u001b[1m1s\u001b[0m 3ms/step - accuracy: 0.8574 - loss: 0.3410 - val_accuracy: 0.8506 - val_loss: 0.3558\n",
      "Epoch 23/50\n",
      "\u001b[1m200/200\u001b[0m \u001b[32m━━━━━━━━━━━━━━━━━━━━\u001b[0m\u001b[37m\u001b[0m \u001b[1m1s\u001b[0m 3ms/step - accuracy: 0.8553 - loss: 0.3456 - val_accuracy: 0.8456 - val_loss: 0.3556\n",
      "Epoch 24/50\n",
      "\u001b[1m200/200\u001b[0m \u001b[32m━━━━━━━━━━━━━━━━━━━━\u001b[0m\u001b[37m\u001b[0m \u001b[1m1s\u001b[0m 3ms/step - accuracy: 0.8564 - loss: 0.3389 - val_accuracy: 0.8425 - val_loss: 0.3555\n",
      "Epoch 25/50\n",
      "\u001b[1m200/200\u001b[0m \u001b[32m━━━━━━━━━━━━━━━━━━━━\u001b[0m\u001b[37m\u001b[0m \u001b[1m1s\u001b[0m 3ms/step - accuracy: 0.8604 - loss: 0.3332 - val_accuracy: 0.8506 - val_loss: 0.3564\n",
      "Epoch 26/50\n",
      "\u001b[1m200/200\u001b[0m \u001b[32m━━━━━━━━━━━━━━━━━━━━\u001b[0m\u001b[37m\u001b[0m \u001b[1m1s\u001b[0m 3ms/step - accuracy: 0.8587 - loss: 0.3360 - val_accuracy: 0.8456 - val_loss: 0.3560\n",
      "Epoch 27/50\n",
      "\u001b[1m200/200\u001b[0m \u001b[32m━━━━━━━━━━━━━━━━━━━━\u001b[0m\u001b[37m\u001b[0m \u001b[1m1s\u001b[0m 3ms/step - accuracy: 0.8583 - loss: 0.3383 - val_accuracy: 0.8481 - val_loss: 0.3565\n",
      "Epoch 28/50\n",
      "\u001b[1m200/200\u001b[0m \u001b[32m━━━━━━━━━━━━━━━━━━━━\u001b[0m\u001b[37m\u001b[0m \u001b[1m1s\u001b[0m 3ms/step - accuracy: 0.8628 - loss: 0.3298 - val_accuracy: 0.8506 - val_loss: 0.3567\n",
      "Epoch 29/50\n",
      "\u001b[1m200/200\u001b[0m \u001b[32m━━━━━━━━━━━━━━━━━━━━\u001b[0m\u001b[37m\u001b[0m \u001b[1m1s\u001b[0m 3ms/step - accuracy: 0.8560 - loss: 0.3427 - val_accuracy: 0.8450 - val_loss: 0.3573\n",
      "Epoch 30/50\n",
      "\u001b[1m200/200\u001b[0m \u001b[32m━━━━━━━━━━━━━━━━━━━━\u001b[0m\u001b[37m\u001b[0m \u001b[1m1s\u001b[0m 3ms/step - accuracy: 0.8632 - loss: 0.3297 - val_accuracy: 0.8444 - val_loss: 0.3598\n",
      "Epoch 31/50\n",
      "\u001b[1m200/200\u001b[0m \u001b[32m━━━━━━━━━━━━━━━━━━━━\u001b[0m\u001b[37m\u001b[0m \u001b[1m1s\u001b[0m 3ms/step - accuracy: 0.8625 - loss: 0.3231 - val_accuracy: 0.8481 - val_loss: 0.3562\n",
      "Epoch 32/50\n",
      "\u001b[1m200/200\u001b[0m \u001b[32m━━━━━━━━━━━━━━━━━━━━\u001b[0m\u001b[37m\u001b[0m \u001b[1m1s\u001b[0m 4ms/step - accuracy: 0.8602 - loss: 0.3325 - val_accuracy: 0.8494 - val_loss: 0.3562\n",
      "Epoch 33/50\n",
      "\u001b[1m200/200\u001b[0m \u001b[32m━━━━━━━━━━━━━━━━━━━━\u001b[0m\u001b[37m\u001b[0m \u001b[1m1s\u001b[0m 4ms/step - accuracy: 0.8609 - loss: 0.3346 - val_accuracy: 0.8506 - val_loss: 0.3584\n",
      "Epoch 34/50\n",
      "\u001b[1m200/200\u001b[0m \u001b[32m━━━━━━━━━━━━━━━━━━━━\u001b[0m\u001b[37m\u001b[0m \u001b[1m1s\u001b[0m 3ms/step - accuracy: 0.8535 - loss: 0.3446 - val_accuracy: 0.8500 - val_loss: 0.3589\n",
      "Epoch 35/50\n",
      "\u001b[1m200/200\u001b[0m \u001b[32m━━━━━━━━━━━━━━━━━━━━\u001b[0m\u001b[37m\u001b[0m \u001b[1m1s\u001b[0m 3ms/step - accuracy: 0.8645 - loss: 0.3229 - val_accuracy: 0.8512 - val_loss: 0.3589\n",
      "Epoch 36/50\n",
      "\u001b[1m200/200\u001b[0m \u001b[32m━━━━━━━━━━━━━━━━━━━━\u001b[0m\u001b[37m\u001b[0m \u001b[1m1s\u001b[0m 3ms/step - accuracy: 0.8611 - loss: 0.3289 - val_accuracy: 0.8456 - val_loss: 0.3572\n",
      "Epoch 37/50\n",
      "\u001b[1m200/200\u001b[0m \u001b[32m━━━━━━━━━━━━━━━━━━━━\u001b[0m\u001b[37m\u001b[0m \u001b[1m1s\u001b[0m 4ms/step - accuracy: 0.8520 - loss: 0.3424 - val_accuracy: 0.8487 - val_loss: 0.3571\n",
      "Epoch 38/50\n",
      "\u001b[1m200/200\u001b[0m \u001b[32m━━━━━━━━━━━━━━━━━━━━\u001b[0m\u001b[37m\u001b[0m \u001b[1m1s\u001b[0m 3ms/step - accuracy: 0.8641 - loss: 0.3238 - val_accuracy: 0.8487 - val_loss: 0.3607\n",
      "Epoch 39/50\n",
      "\u001b[1m200/200\u001b[0m \u001b[32m━━━━━━━━━━━━━━━━━━━━\u001b[0m\u001b[37m\u001b[0m \u001b[1m1s\u001b[0m 3ms/step - accuracy: 0.8625 - loss: 0.3269 - val_accuracy: 0.8462 - val_loss: 0.3586\n",
      "Epoch 40/50\n",
      "\u001b[1m200/200\u001b[0m \u001b[32m━━━━━━━━━━━━━━━━━━━━\u001b[0m\u001b[37m\u001b[0m \u001b[1m1s\u001b[0m 4ms/step - accuracy: 0.8596 - loss: 0.3312 - val_accuracy: 0.8525 - val_loss: 0.3573\n",
      "Epoch 41/50\n",
      "\u001b[1m200/200\u001b[0m \u001b[32m━━━━━━━━━━━━━━━━━━━━\u001b[0m\u001b[37m\u001b[0m \u001b[1m1s\u001b[0m 3ms/step - accuracy: 0.8596 - loss: 0.3279 - val_accuracy: 0.8444 - val_loss: 0.3596\n",
      "Epoch 42/50\n",
      "\u001b[1m200/200\u001b[0m \u001b[32m━━━━━━━━━━━━━━━━━━━━\u001b[0m\u001b[37m\u001b[0m \u001b[1m1s\u001b[0m 3ms/step - accuracy: 0.8593 - loss: 0.3372 - val_accuracy: 0.8512 - val_loss: 0.3585\n",
      "Epoch 43/50\n",
      "\u001b[1m200/200\u001b[0m \u001b[32m━━━━━━━━━━━━━━━━━━━━\u001b[0m\u001b[37m\u001b[0m \u001b[1m1s\u001b[0m 3ms/step - accuracy: 0.8531 - loss: 0.3379 - val_accuracy: 0.8512 - val_loss: 0.3584\n",
      "Epoch 44/50\n",
      "\u001b[1m200/200\u001b[0m \u001b[32m━━━━━━━━━━━━━━━━━━━━\u001b[0m\u001b[37m\u001b[0m \u001b[1m1s\u001b[0m 3ms/step - accuracy: 0.8599 - loss: 0.3271 - val_accuracy: 0.8487 - val_loss: 0.3584\n",
      "Epoch 45/50\n",
      "\u001b[1m200/200\u001b[0m \u001b[32m━━━━━━━━━━━━━━━━━━━━\u001b[0m\u001b[37m\u001b[0m \u001b[1m1s\u001b[0m 3ms/step - accuracy: 0.8628 - loss: 0.3144 - val_accuracy: 0.8531 - val_loss: 0.3596\n",
      "Epoch 46/50\n",
      "\u001b[1m200/200\u001b[0m \u001b[32m━━━━━━━━━━━━━━━━━━━━\u001b[0m\u001b[37m\u001b[0m \u001b[1m1s\u001b[0m 3ms/step - accuracy: 0.8543 - loss: 0.3318 - val_accuracy: 0.8512 - val_loss: 0.3598\n",
      "Epoch 47/50\n",
      "\u001b[1m200/200\u001b[0m \u001b[32m━━━━━━━━━━━━━━━━━━━━\u001b[0m\u001b[37m\u001b[0m \u001b[1m1s\u001b[0m 3ms/step - accuracy: 0.8597 - loss: 0.3250 - val_accuracy: 0.8469 - val_loss: 0.3599\n",
      "Epoch 48/50\n",
      "\u001b[1m200/200\u001b[0m \u001b[32m━━━━━━━━━━━━━━━━━━━━\u001b[0m\u001b[37m\u001b[0m \u001b[1m1s\u001b[0m 5ms/step - accuracy: 0.8596 - loss: 0.3291 - val_accuracy: 0.8531 - val_loss: 0.3579\n",
      "Epoch 49/50\n",
      "\u001b[1m200/200\u001b[0m \u001b[32m━━━━━━━━━━━━━━━━━━━━\u001b[0m\u001b[37m\u001b[0m \u001b[1m1s\u001b[0m 3ms/step - accuracy: 0.8666 - loss: 0.3278 - val_accuracy: 0.8500 - val_loss: 0.3573\n",
      "Epoch 50/50\n",
      "\u001b[1m200/200\u001b[0m \u001b[32m━━━━━━━━━━━━━━━━━━━━\u001b[0m\u001b[37m\u001b[0m \u001b[1m1s\u001b[0m 3ms/step - accuracy: 0.8625 - loss: 0.3190 - val_accuracy: 0.8531 - val_loss: 0.3577\n"
     ]
    }
   ],
   "source": [
    "model=Sequential()\n",
    "model.add(Dense(10,activation='relu',input_dim=9))\n",
    "model.add(Dense(20,activation='relu'))\n",
    "model.add(Dense(10,activation='relu'))\n",
    "model.add(Dense(1,activation='sigmoid'))\n",
    "model.compile(optimizer='adam',loss='binary_crossentropy',metrics=['accuracy'])\n",
    "model.summary()\n",
    "history=model.fit(X_train,y_train,epochs=50,validation_split=0.2)"
   ]
  },
  {
   "cell_type": "code",
   "execution_count": 120,
   "id": "762d1efa-f09e-4a24-a8cf-515cb35ba735",
   "metadata": {},
   "outputs": [
    {
     "data": {
      "image/png": "[encoded data removed]",
      "text/plain": [
       "<Figure size 2000x800 with 1 Axes>"
      ]
     },
     "metadata": {},
     "output_type": "display_data"
    }
   ],
   "source": [
    "tr_loss = history.history['loss']\n",
    "val_loss = history.history['val_loss']\n",
    "index_loss = np.argmin(val_loss)\n",
    "val_lowest = val_loss[index_loss]\n",
    "\n",
    "Epochs = [i+1 for i in range(len(tr_loss))]\n",
    "loss_label = f'best epoch= {str(index_loss + 1)}'\n",
    "\n",
    "# Plot training history\n",
    "plt.figure(figsize= (20, 8))\n",
    "plt.style.use('fivethirtyeight')\n",
    "\n",
    "plt.plot(Epochs, tr_loss, 'r', label= 'Training loss')\n",
    "plt.plot(Epochs, val_loss, 'g', label= 'Validation loss')\n",
    "plt.scatter(index_loss + 1, val_lowest, s= 150, c= 'blue', label= loss_label)\n",
    "plt.title('Training and Validation Loss')\n",
    "plt.xlabel('Epochs')\n",
    "plt.ylabel('Loss')\n",
    "plt.legend()\n",
    "\n",
    "plt.tight_layout\n",
    "plt.show()"
   ]
  },
  {
   "cell_type": "code",
   "execution_count": 121,
   "id": "cde5c25a-83e9-4fe2-ae9e-45d936cd738a",
   "metadata": {},
   "outputs": [
    {
     "name": "stderr",
     "output_type": "stream",
     "text": [
      "[NbConvertApp] Converting notebook churn_ANN.ipynb to HTML\n",
      "[NbConvertApp] WARNING | Alternative text is missing on 9 image(s).\n",
      "[NbConvertApp] Writing 611399 bytes to churn_ANN.html\n"
     ]
    }
   ],
   "source": []
  },
  {
   "cell_type": "code",
   "execution_count": 128,
   "id": "82405c30-48e9-4182-8307-5461e8920843",
   "metadata": {},
   "outputs": [
    {
     "name": "stdout",
     "output_type": "stream",
     "text": [
      "\u001b[1m63/63\u001b[0m \u001b[32m━━━━━━━━━━━━━━━━━━━━\u001b[0m\u001b[37m\u001b[0m \u001b[1m0s\u001b[0m 2ms/step\n"
     ]
    },
    {
     "data": {
      "text/html": [
       "<div>\n",
       "<style scoped>\n",
       "    .dataframe tbody tr th:only-of-type {\n",
       "        vertical-align: middle;\n",
       "    }\n",
       "\n",
       "    .dataframe tbody tr th {\n",
       "        vertical-align: top;\n",
       "    }\n",
       "\n",
       "    .dataframe thead th {\n",
       "        text-align: right;\n",
       "    }\n",
       "</style>\n",
       "<table border=\"1\" class=\"dataframe\">\n",
       "  <thead>\n",
       "    <tr style=\"text-align: right;\">\n",
       "      <th></th>\n",
       "      <th>Accuracy</th>\n",
       "      <th>Precision</th>\n",
       "      <th>Recall</th>\n",
       "      <th>f1_score</th>\n",
       "    </tr>\n",
       "  </thead>\n",
       "  <tbody>\n",
       "    <tr>\n",
       "      <th>0</th>\n",
       "      <td>0.857</td>\n",
       "      <td>0.704981</td>\n",
       "      <td>0.468193</td>\n",
       "      <td>0.562691</td>\n",
       "    </tr>\n",
       "  </tbody>\n",
       "</table>\n",
       "</div>"
      ],
      "text/plain": [
       "   Accuracy  Precision    Recall  f1_score\n",
       "0     0.857   0.704981  0.468193  0.562691"
      ]
     },
     "execution_count": 128,
     "metadata": {},
     "output_type": "execute_result"
    }
   ],
   "source": [
    "metrics_evaluation(model,X_test,y_test)"
   ]
  },
  {
   "cell_type": "code",
   "execution_count": 132,
   "id": "c47016c5-c6c1-4a20-ba92-99ffd0c56446",
   "metadata": {},
   "outputs": [
    {
     "name": "stdout",
     "output_type": "stream",
     "text": [
      "\u001b[1m63/63\u001b[0m \u001b[32m━━━━━━━━━━━━━━━━━━━━\u001b[0m\u001b[37m\u001b[0m \u001b[1m0s\u001b[0m 3ms/step\n"
     ]
    },
    {
     "data": {
      "image/png": "[encoded data removed]",
      "text/plain": [
       "<Figure size 600x400 with 2 Axes>"
      ]
     },
     "metadata": {},
     "output_type": "display_data"
    }
   ],
   "source": [
    "confusion_mat(model,X_test,y_test)"
   ]
  },
  {
   "cell_type": "code",
   "execution_count": 133,
   "id": "efc9c3f3-730b-48cf-ba45-16150e738cbd",
   "metadata": {},
   "outputs": [
    {
     "name": "stderr",
     "output_type": "stream",
     "text": [
      "[NbConvertApp] Converting notebook churn_ANN.ipynb to HTML\n",
      "[NbConvertApp] WARNING | Alternative text is missing on 10 image(s).\n",
      "[NbConvertApp] Writing 659492 bytes to churn_ANN.html\n"
     ]
    }
   ],
   "source": [
    "import nbconvert\n",
    "!jupyter nbconvert churn_ANN.ipynb --to HTML\n"
   ]
  },
  {
   "cell_type": "code",
   "execution_count": null,
   "id": "1eb531da-5075-4af5-a5c2-7154af111863",
   "metadata": {},
   "outputs": [],
   "source": []
  }
 ],
 "metadata": {
  "kernelspec": {
   "display_name": "Python 3 (ipykernel)",
   "language": "python",
   "name": "python3"
  },
  "language_info": {
   "codemirror_mode": {
    "name": "ipython",
    "version": 3
   },
   "file_extension": ".py",
   "mimetype": "text/x-python",
   "name": "python",
   "nbconvert_exporter": "python",
   "pygments_lexer": "ipython3",
   "version": "3.11.8"
  }
 },
 "nbformat": 4,
 "nbformat_minor": 5
}
